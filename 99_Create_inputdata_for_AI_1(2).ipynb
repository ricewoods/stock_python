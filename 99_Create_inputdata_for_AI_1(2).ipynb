{
 "cells": [
  {
   "cell_type": "code",
   "execution_count": 3,
   "id": "bb2cc550",
   "metadata": {},
   "outputs": [],
   "source": [
    "import numpy as np\n",
    "import pandas as pd\n",
    "import datetime as dt\n",
    "from pandas_datareader import DataReader\n",
    "from pandas import Series, DataFrame"
   ]
  },
  {
   "cell_type": "code",
   "execution_count": 5,
   "id": "c83d7b6b",
   "metadata": {},
   "outputs": [],
   "source": [
    "# 予想のために作成したinputデータ（前日）\n",
    "df_inputai = pd.read_csv('data/inputAI_20220224.csv', index_col=0, header=[0], parse_dates=[0])"
   ]
  },
  {
   "cell_type": "code",
   "execution_count": 7,
   "id": "97678a3d",
   "metadata": {},
   "outputs": [],
   "source": [
    "# 不要な列を削除 \n",
    "df_inputai2 = df_inputai.drop(columns=['key', 'AdjClose'])"
   ]
  },
  {
   "cell_type": "code",
   "execution_count": 8,
   "id": "da375816",
   "metadata": {},
   "outputs": [],
   "source": [
    "# PERの値に含まれている”,”を削除 regex=Trueをすることによって、対象の文字列のみ置き換わる\n",
    "df_inputai2 = df_inputai2.replace({'PER': {',':''}}, regex=True)"
   ]
  },
  {
   "cell_type": "code",
   "execution_count": 9,
   "id": "33b9db87",
   "metadata": {},
   "outputs": [],
   "source": [
    "# PERをobject属性から'float64'属性に変更\n",
    "df_inputai2['PER'] = df_inputai2['PER'].astype('float64')"
   ]
  },
  {
   "cell_type": "code",
   "execution_count": 10,
   "id": "84a94ca8",
   "metadata": {},
   "outputs": [],
   "source": [
    "# 列「PBR」にNaNがある行を削除\n",
    "df_inputai2 = df_inputai2.dropna(subset=['PBR'])"
   ]
  },
  {
   "cell_type": "code",
   "execution_count": 128,
   "id": "7b51c6f9",
   "metadata": {},
   "outputs": [],
   "source": [
    "# ここからscikit-learn用のデータクラスを持つオブジェクトを作る\n",
    "import sklearn"
   ]
  },
  {
   "cell_type": "code",
   "execution_count": 129,
   "id": "de5d5426",
   "metadata": {},
   "outputs": [],
   "source": [
    "stockanalysis = sklearn.utils.Bunch()"
   ]
  },
  {
   "cell_type": "code",
   "execution_count": 130,
   "id": "ed2904ca",
   "metadata": {},
   "outputs": [],
   "source": [
    "# resultを目的変数\"target\"とする\n",
    "stockanalysis['target'] = df_testdata3['result']"
   ]
  },
  {
   "cell_type": "code",
   "execution_count": 131,
   "id": "71de5bc9",
   "metadata": {},
   "outputs": [],
   "source": [
    "# 説明変数を\"data\"に入れる\n",
    "stockanalysis['data'] = df_testdata3.loc[:, ['PER', 'PBR', 'HAITO',\n",
    "                                  'ROE', 'ROA', 'MA05',\n",
    "                                  'MA25', 'MA75', 'RSI',\n",
    "                                  'INDR4', 'TSPLB', 'TSPLS',\n",
    "                                  'PIN80B', 'PIN80S', 'Diff']]"
   ]
  },
  {
   "cell_type": "code",
   "execution_count": 132,
   "id": "12e6bacb",
   "metadata": {},
   "outputs": [],
   "source": [
    "# 特徴量の名前も入れておく\n",
    "stockanalysis['feature_names'] = ['PER', 'PBR', 'HAITO',\n",
    "                                  'ROE', 'ROA', 'MA05',\n",
    "                                  'MA25', 'MA75', 'RSI',\n",
    "                                  'INDR4', 'TSPLB', 'TSPLS',\n",
    "                                  'PIN80B', 'PIN80S', 'Diff']"
   ]
  },
  {
   "cell_type": "code",
   "execution_count": 148,
   "id": "d5c53919",
   "metadata": {},
   "outputs": [],
   "source": [
    "# 訓練セットとテストセットに分割\n",
    "from sklearn.model_selection import train_test_split\n",
    "X_train, X_test, Y_train, Y_test = train_test_split(\n",
    "stockanalysis['data'], stockanalysis['target'], random_state=0)"
   ]
  },
  {
   "cell_type": "code",
   "execution_count": 149,
   "id": "e5f16537",
   "metadata": {},
   "outputs": [
    {
     "name": "stdout",
     "output_type": "stream",
     "text": [
      "(1448, 15) (483, 15) (1448,) (483,)\n"
     ]
    }
   ],
   "source": [
    "# データ読み込み完了\n",
    "print(X_train.shape, X_test.shape, Y_train.shape, Y_test.shape)"
   ]
  },
  {
   "cell_type": "code",
   "execution_count": 150,
   "id": "2964fb08",
   "metadata": {},
   "outputs": [],
   "source": [
    "from sklearn.linear_model import LinearRegression"
   ]
  },
  {
   "cell_type": "code",
   "execution_count": 151,
   "id": "1d7ade69",
   "metadata": {},
   "outputs": [],
   "source": [
    "lreg = LinearRegression()"
   ]
  },
  {
   "cell_type": "code",
   "execution_count": 152,
   "id": "da428c2e",
   "metadata": {},
   "outputs": [
    {
     "data": {
      "text/plain": [
       "LinearRegression()"
      ]
     },
     "execution_count": 152,
     "metadata": {},
     "output_type": "execute_result"
    }
   ],
   "source": [
    "# fitでモデルを作りますが、使うのは学習用のデータだけです。\n",
    "lreg.fit(X_train, Y_train)"
   ]
  },
  {
   "cell_type": "code",
   "execution_count": 153,
   "id": "88496e66",
   "metadata": {},
   "outputs": [
    {
     "name": "stdout",
     "output_type": "stream",
     "text": [
      "[-1.43733805e-04  9.88850816e-03 -8.29274599e-02 -6.06429673e-03\n",
      " -1.48756550e-04  1.22021217e+00 -3.66715186e-02  1.79622705e-03\n",
      "  2.74710498e-03 -3.50091290e-01  6.89175979e-01 -1.17992093e+00\n",
      "  6.87350674e-01 -1.05764363e+00 -9.41975614e-01]\n",
      "0.5818122984109226\n",
      "0.7940682759097738\n"
     ]
    }
   ],
   "source": [
    "# 回帰係数\n",
    "print(lreg.coef_)\n",
    "# 切片（誤差）\n",
    "print(lreg.intercept_)\n",
    "# 決定係数\n",
    "print(lreg.score(X_train, Y_train))"
   ]
  },
  {
   "cell_type": "code",
   "execution_count": 154,
   "id": "72a62aef",
   "metadata": {},
   "outputs": [],
   "source": [
    "# 予測を、学習用のデータと、テスト用のデータ、両方でやる。\n",
    "pred_train = lreg.predict(X_train)\n",
    "pred_test = lreg.predict(X_test)"
   ]
  },
  {
   "cell_type": "code",
   "execution_count": 155,
   "id": "9eb7631c",
   "metadata": {},
   "outputs": [
    {
     "name": "stdout",
     "output_type": "stream",
     "text": [
      "X_trainを使ったモデルの平均二乗誤差＝0.90\n",
      "X_testを使ったモデルの平均二乗誤差＝0.81\n"
     ]
    }
   ],
   "source": [
    "print('X_trainを使ったモデルの平均二乗誤差＝{:0.2f}'.format(np.mean((Y_train - pred_train) ** 2)))\n",
    "    \n",
    "print('X_testを使ったモデルの平均二乗誤差＝{:0.2f}'.format(np.mean((Y_test - pred_test) ** 2)))"
   ]
  },
  {
   "cell_type": "code",
   "execution_count": 156,
   "id": "2e3a58c1",
   "metadata": {},
   "outputs": [
    {
     "data": {
      "text/plain": [
       "Text(0.5, 1.0, 'Residual Plots')"
      ]
     },
     "execution_count": 156,
     "metadata": {},
     "output_type": "execute_result"
    },
    {
     "data": {
      "image/png": "[encoded data removed]",
      "text/plain": [
       "<Figure size 432x288 with 1 Axes>"
      ]
     },
     "metadata": {
      "needs_background": "light"
     },
     "output_type": "display_data"
    }
   ],
   "source": [
    "# 学習用のデータの残差プロットです。\n",
    "train = plt.scatter(pred_train,(pred_train-Y_train),c='b',alpha=0.5)\n",
    "\n",
    "# テスト用のデータの残差プロットです。\n",
    "test = plt.scatter(pred_test,(pred_test-Y_test),c='r',alpha=0.5)\n",
    "\n",
    "# y=0の水平な線を描いておきます。\n",
    "plt.hlines(y=0,xmin=-10,xmax=50)\n",
    "\n",
    "plt.legend((train,test),('Training','Test'),loc='lower left')\n",
    "plt.title('Residual Plots')"
   ]
  },
  {
   "cell_type": "code",
   "execution_count": 177,
   "id": "059b2397",
   "metadata": {},
   "outputs": [
    {
     "data": {
      "text/plain": [
       "array([ 1.46783351, -2.16482059, -1.7258899 , ...,  0.22206211,\n",
       "       -1.72200797,  0.71871362])"
      ]
     },
     "execution_count": 177,
     "metadata": {},
     "output_type": "execute_result"
    }
   ],
   "source": [
    "pred_train"
   ]
  },
  {
   "cell_type": "code",
   "execution_count": 174,
   "id": "0c658321",
   "metadata": {},
   "outputs": [
    {
     "data": {
      "text/plain": [
       "(1448,)"
      ]
     },
     "execution_count": 174,
     "metadata": {},
     "output_type": "execute_result"
    }
   ],
   "source": [
    "lreg.predict(X_train).shape"
   ]
  },
  {
   "cell_type": "code",
   "execution_count": 176,
   "id": "d5a61c6f",
   "metadata": {},
   "outputs": [
    {
     "ename": "AttributeError",
     "evalue": "'LinearRegression' object has no attribute 'DataFrame'",
     "output_type": "error",
     "traceback": [
      "\u001b[1;31m---------------------------------------------------------------------------\u001b[0m",
      "\u001b[1;31mAttributeError\u001b[0m                            Traceback (most recent call last)",
      "\u001b[1;32m~\\AppData\\Local\\Temp/ipykernel_20184/1975027797.py\u001b[0m in \u001b[0;36m<module>\u001b[1;34m\u001b[0m\n\u001b[1;32m----> 1\u001b[1;33m \u001b[0mlreg\u001b[0m\u001b[1;33m.\u001b[0m\u001b[0mDataFrame\u001b[0m\u001b[1;33m(\u001b[0m\u001b[0mX_train\u001b[0m\u001b[1;33m)\u001b[0m\u001b[1;33m\u001b[0m\u001b[1;33m\u001b[0m\u001b[0m\n\u001b[0m",
      "\u001b[1;31mAttributeError\u001b[0m: 'LinearRegression' object has no attribute 'DataFrame'"
     ]
    }
   ],
   "source": [
    "lreg.DataFrame(X_train)"
   ]
  },
  {
   "cell_type": "code",
   "execution_count": null,
   "id": "e8880389",
   "metadata": {},
   "outputs": [],
   "source": []
  }
 ],
 "metadata": {
  "kernelspec": {
   "display_name": "Python 3 (ipykernel)",
   "language": "python",
   "name": "python3"
  },
  "language_info": {
   "codemirror_mode": {
    "name": "ipython",
    "version": 3
   },
   "file_extension": ".py",
   "mimetype": "text/x-python",
   "name": "python",
   "nbconvert_exporter": "python",
   "pygments_lexer": "ipython3",
   "version": "3.9.7"
  }
 },
 "nbformat": 4,
 "nbformat_minor": 5
}
