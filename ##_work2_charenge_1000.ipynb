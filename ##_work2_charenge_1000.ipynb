{
 "cells": [
  {
   "cell_type": "code",
   "execution_count": 1,
   "id": "ec4ed87c",
   "metadata": {},
   "outputs": [],
   "source": [
    "import random"
   ]
  },
  {
   "cell_type": "code",
   "execution_count": 2,
   "id": "8f25e6f1",
   "metadata": {},
   "outputs": [],
   "source": [
    "# 乱数を初期化 0に初期化すると毎回同じ値が取得される\n",
    "# random.seed(0)"
   ]
  },
  {
   "cell_type": "code",
   "execution_count": 3,
   "id": "0371b2dd",
   "metadata": {},
   "outputs": [],
   "source": [
    "#　名詞リスト\n",
    "nouns = ['yes','no','I','you','he','she','we','it','they','man','woman','mother','father','parent','family','baby','son','daughter','brother','sister','grandfather','grandmother','husband','wife','partner','boy','girl','child','adult','human','friend','neighbor','person','student','patient','victim','player','fan','crowd','king','queen','president','food','bread','cheese','egg','cake','beef','pork','chicken','soup','rice','corn','apple','orange','banana','lemon','seed','oil','cup','plate','spoon','fork','knife','breakfast','lunch','dinner','sugar','salt','bottle','beverage','water','milk','juice','coffee','tea','beer','wine','rice wine','body','head','face','hair','eye','ear','nose','mouth','lip','tooth','tongue','tear','beard','neck','voice','back','shoulder','arm','hand','knee','leg','foot','finger','toe','bone','heart','brain','skin','sweat','blood','disease','direction','up','down','right','left','top','bottom','straight','side','front','back','outside','inside','corner','edge','north','south','east','west','transportation','bus','train','car','truck','plane','boat','ship','bicycle','tire','gasoline','engine','ticket','table','chair','window','wall','floor','ceiling','roof','room','bedroom','bed','kitchen','bathroom','soap','door','lock','key','pen','pencil','book','note','page','paper','letter','paint','painting','photo','cell phone','network','computer','program','laptop','screen','camera','television','radio','telephone','garden','yard','needle','bag','box','gift','card','ring','tool','clock','lamp','fan','electronics','clothing','suit','pants','shirt','T-shirt','pocket','dress','skirt','coat','hat','shoes','job','teacher','lawyer','doctor','secretary','police','manager','waiter','reporter','actor','artist','author','prime minister','priest','soldier','army','location','space','house','apartment','town','city','street','road','bridge','park','school','university','library','hospital','church','market','bank','office','airport','train station','hotel','restaurant','farm','court','pool','club','bar','camp','store','shop','theater','country','building','ground','map','first','number','one','two','three','four','five','six','seven','eight','nine','ten','eleven','twelve','thirteen','fourteen','fifteen','sixteen','seventeen','eighteen','nineteen','twenty','twenty-one','thirty','forty','fifty','sixty','seventy','eighty','ninety','hundred','thousand','million','billion','first','second','third','fourth','fifth','sixth','seventh','eighth','ninth','tenth','Monday','Tuesday','Wednesday','Thursday','Friday','Saturday','Sunday','January','February','March','April','May','June','July','August','September','October','November','December','time','year','month','week','day','hour','minute','second','morning','afternoon','evening','night','season','spring','summer','fall','winter','color','material','gold','copper','silver','wood','stone','glass','metal','plastic','diamond','clay','dust','meter','centimeter','kilogram','inch','foot','pound','half','circle','square','temperature','date','weight','dot','religion','heaven','hell','death','medicine','money','dollar','bill','marriage','wedding','team','race','sex','murder','prison','technology','energy','war','peace','attack','election','magazine','newspaper','poison','sport','exercise','ball','game','price','contract','drug','sign','science','God','animal','dog','cat','fish','bird','cow','pig','mouse','horse','wing','nature','earth','world','mountain','river','lake','sea','ocean','island','beach','sand','wave','forest','soil','plant','flower','root','grass','leaf','tree','hill','valley','sun','moon','star','rain','snow','sky','wind','air','ice','fire','heat','light','sound','song','instrument','band','musical','music','movie','art','painting','dream','nuclear','gun','piece','pain','injury','hole','image','pattern','noun','verb','adjective','consonant','vowel'\n",
    "        ]"
   ]
  },
  {
   "cell_type": "code",
   "execution_count": 4,
   "id": "651b6779",
   "metadata": {},
   "outputs": [],
   "source": [
    "# 動詞リスト\n",
    "verbs = ['speak','say','call','tell','eat','drink','see','watch','cry','smile','laugh','hear','listen','taste','touch','smell','walk','run','go','stop','think','follow','work','play','drive','jump','fly','swim','buy','pay','sell','shoot','learn','sit','stand','kiss','love','sleep','wakeup','lie','wear','cook','stir','mix','shake','wash','dance','sing','write','draw','teach','count','clean','push','pull','open','close','hang','carry','turn','bend','throw','find','beat','lift','feed','win','lose','pray','marry','sign','grow','build','break','catch','burn','melt','explode','dig','cut','fight','pass','kill','die'\n",
    "        ]"
   ]
  },
  {
   "cell_type": "code",
   "execution_count": 5,
   "id": "651b0824",
   "metadata": {},
   "outputs": [],
   "source": [
    "# 形容詞リスト\n",
    "adjectives = ['big','large','small','little','long','short','tall','wide','narrow','hot','cold','warm','cool','slow','fast','new','old','young','good','bad','thick','thin','wet','dry','happy','sad','beautiful','ugly','loud','quiet','nice','mean','rich','poor','expensive','cheap','flat','curved','male','female','tight','loose','high','low','soft','hard','deep','shallow','clean','dirty','strong','weak','dead','alive','heavy','light','dark','light','famous','important','sick','healthy','deaf','blind','red','blue','yellow','green','brown','pink','orange','white','black','gray'\n",
    "        ]"
   ]
  },
  {
   "cell_type": "code",
   "execution_count": 6,
   "id": "4ece99b6",
   "metadata": {},
   "outputs": [
    {
     "name": "stdout",
     "output_type": "stream",
     "text": [
      "['bank', 'bus', 'temperature', 'office', 'east', 'cake', 'orange']\n"
     ]
    }
   ],
   "source": [
    "# 名詞リストから7回ランダムに要素を抽出（重複なし:sample,重複あり:choice）\n",
    "x = random.sample(nouns, 7)\n",
    "print(x)"
   ]
  },
  {
   "cell_type": "code",
   "execution_count": 7,
   "id": "9210e2d6",
   "metadata": {},
   "outputs": [
    {
     "name": "stdout",
     "output_type": "stream",
     "text": [
      "['clean', 'see', 'count', 'sit', 'hear']\n"
     ]
    }
   ],
   "source": [
    "y = random.sample(verbs, 5)\n",
    "print(y)"
   ]
  },
  {
   "cell_type": "code",
   "execution_count": 8,
   "id": "43214d9f",
   "metadata": {},
   "outputs": [
    {
     "name": "stdout",
     "output_type": "stream",
     "text": [
      "['deaf', 'dirty', 'young', 'gray', 'light']\n"
     ]
    }
   ],
   "source": [
    "z = random.sample(adjectives, 5)\n",
    "print(z)"
   ]
  },
  {
   "cell_type": "code",
   "execution_count": null,
   "id": "90681ba8",
   "metadata": {},
   "outputs": [],
   "source": []
  }
 ],
 "metadata": {
  "kernelspec": {
   "display_name": "Python 3 (ipykernel)",
   "language": "python",
   "name": "python3"
  },
  "language_info": {
   "codemirror_mode": {
    "name": "ipython",
    "version": 3
   },
   "file_extension": ".py",
   "mimetype": "text/x-python",
   "name": "python",
   "nbconvert_exporter": "python",
   "pygments_lexer": "ipython3",
   "version": "3.9.7"
  }
 },
 "nbformat": 4,
 "nbformat_minor": 5
}
