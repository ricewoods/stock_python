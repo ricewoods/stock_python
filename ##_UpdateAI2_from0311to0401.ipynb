{
 "cells": [
  {
   "cell_type": "code",
   "execution_count": 1,
   "id": "c0259ea5",
   "metadata": {},
   "outputs": [],
   "source": [
    "import numpy as np\n",
    "import pandas as pd\n",
    "import datetime as dt\n",
    "from pandas_datareader import DataReader\n",
    "from pandas import Series, DataFrame"
   ]
  },
  {
   "cell_type": "code",
   "execution_count": 2,
   "id": "431b2eb0",
   "metadata": {},
   "outputs": [],
   "source": [
    "# 機械学習用データ作成（予想したい日の前日分までの累積）\n",
    "filedate = '20220331'"
   ]
  },
  {
   "cell_type": "code",
   "execution_count": 3,
   "id": "7d3f28b0",
   "metadata": {},
   "outputs": [],
   "source": [
    "#2022/4/1以前のデータ(Columns=4-9,4.1-9.1,4.2-9.2)\n",
    "# df_p1 = pd.read_csv('data/inputAI2_20220311.csv', index_col=0, header=[0], parse_dates=[0])\n",
    "df_p1 = pd.read_csv('data/market_' + filedate + '.csv', index_col=0, header=[0], parse_dates=[0])\n"
   ]
  },
  {
   "cell_type": "code",
   "execution_count": 4,
   "id": "52b32732",
   "metadata": {},
   "outputs": [],
   "source": [
    "# ,inplace=True\n",
    "df_p1.drop(columns=['4','5','6','7','8','9','4.1','5.1','6.1','7.1','8.1',\n",
    "                   '9.1','4.2','5.2','6.2','7.2','8.2','9.2'],inplace=True)"
   ]
  },
  {
   "cell_type": "code",
   "execution_count": 5,
   "id": "71548d34",
   "metadata": {},
   "outputs": [],
   "source": [
    "df_p1.to_csv('data/market_' + filedate + '.csv')"
   ]
  }
 ],
 "metadata": {
  "kernelspec": {
   "display_name": "Python 3 (ipykernel)",
   "language": "python",
   "name": "python3"
  },
  "language_info": {
   "codemirror_mode": {
    "name": "ipython",
    "version": 3
   },
   "file_extension": ".py",
   "mimetype": "text/x-python",
   "name": "python",
   "nbconvert_exporter": "python",
   "pygments_lexer": "ipython3",
   "version": "3.9.7"
  }
 },
 "nbformat": 4,
 "nbformat_minor": 5
}
