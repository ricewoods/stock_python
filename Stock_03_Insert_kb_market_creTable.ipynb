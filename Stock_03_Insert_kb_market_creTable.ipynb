{
 "cells": [
  {
   "cell_type": "code",
   "execution_count": 1,
   "id": "cb34c2a1",
   "metadata": {},
   "outputs": [],
   "source": [
    "# MySQLdbのインポート\n",
    "import MySQLdb"
   ]
  },
  {
   "cell_type": "code",
   "execution_count": 2,
   "id": "940ceb19",
   "metadata": {},
   "outputs": [],
   "source": [
    "# データベースへの接続とカーソルの生成\n",
    "connection = MySQLdb.connect(\n",
    "    host='localhost',\n",
    "    port=13306,\n",
    "    user='cyamaryan',\n",
    "    passwd='python',\n",
    "    db='stock',\n",
    "    charset='utf8')\n",
    "cursor = connection.cursor()"
   ]
  },
  {
   "cell_type": "code",
   "execution_count": 3,
   "id": "32da47bd",
   "metadata": {},
   "outputs": [
    {
     "name": "stdout",
     "output_type": "stream",
     "text": [
      "(('kb_brand',), ('kb_values',))\n"
     ]
    }
   ],
   "source": [
    "# テーブル削除\n",
    "sql = '''\n",
    "DROP TABLE kb_market\n",
    "'''\n",
    "cursor.execute(sql)\n",
    "cursor.execute(\"SHOW TABLES\")\n",
    "# fetchall:結果をリスト化する\n",
    "print(cursor.fetchall())"
   ]
  },
  {
   "cell_type": "code",
   "execution_count": 4,
   "id": "bffdcdbf",
   "metadata": {},
   "outputs": [
    {
     "name": "stdout",
     "output_type": "stream",
     "text": [
      "(('kb_brand',), ('kb_market',), ('kb_values',))\n"
     ]
    }
   ],
   "source": [
    "# テーブル作成(kb_market)\n",
    "sql = '''\n",
    "CREATE TABLE kb_market(trading_date DATE NOT NULL, nikkei225 FLOAT NULL, topix FLOAT NULL, jpxni400 FLOAT NULL, prime FLOAT NULL, standard FLOAT NULL, growth FLOAT NULL, old_tosho FLOAT NULL, growth_core FLOAT NULL, mothers FLOAT NULL, nikkei_vi FLOAT NULL, reit FLOAT NULL, dow FLOAT NULL, nasdaq FLOAT NULL, sp500 FLOAT NULL, gbr_ft FLOAT NULL, fra_cac FLOAT NULL, ger_dax FLOAT NULL, rus_rts FLOAT NULL, bra_bvsp FLOAT NULL, ind_sensex FLOAT NULL, hkg_han FLOAT NULL, hkg_han_h FLOAT NULL, hkg_red FLOAT NULL, shanghai FLOAT NULL, shanghai_a FLOAT NULL, Shang_hongkong FLOAT NULL, csi300 FLOAT NULL, singapore_st FLOAT NULL, thailand_set FLOAT NULL, kualalumpur FLOAT NULL, Jakarta FLOAT NULL, nikkei225_futures FLOAT NULL, cme_futures FLOAT NULL, sgx_futures FLOAT NULL, mothers_futures FLOAT NULL, nikkei400_futures FLOAT NULL, jpn_bonds_futures FLOAT NULL, jpn_bonds_futures_lev FLOAT NULL, jpn_bonds_futures_In FLOAT NULL, jpn_bonds_futures_Inw FLOAT NULL, twn_futures FLOAT NULL, chn_futures FLOAT NULL, emini500 FLOAT NULL, emini400 FLOAT NULL, emini600 FLOAT NULL, emini_nasdaq FLOAT NULL, emini_Dow FLOAT NULL, emini_nikkei225 FLOAT NULL, sgx50 FLOAT NULL, usd_jpy_buy FLOAT NULL, eur_jpy_buy FLOAT NULL, aud_jpy_buy FLOAT NULL, nzd_jpy_buy FLOAT NULL, cad_jpy_buy FLOAT NULL, chf_jpy_buy FLOAT NULL, hkd_jpy_buy FLOAT NULL, gbp_jpy_buy FLOAT NULL, try_jpy_buy FLOAT NULL, zar_jpy_buy FLOAT NULL, rub_jpy_buy FLOAT NULL, krw_jpy_buy FLOAT NULL, mxn_jpy_buy FLOAT NULL, brl_jpy_buy FLOAT NULL, inr_jpy_buy FLOAT NULL, cny_jpy_buy FLOAT NULL, sgd_jpy_buy FLOAT NULL, thb_jpy_buy FLOAT NULL, myr_jpy_buy FLOAT NULL, idr_jpy_buy FLOAT NULL, usd_jpy_sell FLOAT NULL, eur_jpy_sell FLOAT NULL, aud_jpy_sell FLOAT NULL, nzd_jpy_sell FLOAT NULL, cad_jpy_sell FLOAT NULL, chf_jpy_sell FLOAT NULL, hkd_jpy_sell FLOAT NULL, gbp_jpy_sell FLOAT NULL, try_jpy_sell FLOAT NULL, zar_jpy_sell FLOAT NULL, rub_jpy_sell FLOAT NULL, krw_jpy_sell FLOAT NULL, mxn_jpy_sell FLOAT NULL, brl_jpy_sell FLOAT NULL, inr_jpy_sell FLOAT NULL, cny_jpy_sell FLOAT NULL, sgd_jpy_sell FLOAT NULL, thb_jpy_sell FLOAT NULL, myr_jpy_sell FLOAT NULL, idr_jpy_sell FLOAT NULL, oll_futures FLOAT NULL, gas_futures FLOAT NULL, gold_buy FLOAT NULL, gold_sell FLOAT NULL, gold_futures FLOAT NULL, platinum_futures FLOAT NULL, silver_futures FLOAT NULL, copper_futures FLOAT NULL, corn_futures FLOAT NULL, wheat_futures FLOAT NULL, soybeans_futures FLOAT NULL, jpn_bonds_3y FLOAT NULL, jpn_bonds_5y FLOAT NULL, jpn_bonds_10y FLOAT NULL, usa_bonds_5y FLOAT NULL, usa_bonds_10y FLOAT NULL, ger_bonds_10y FLOAT NULL, eng_bonds_10y FLOAT NULL, Fra_bonds_10y FLOAT NULL, esp_bonds_10y FLOAT NULL, por_bonds_10y FLOAT NULL, eur_bonds_10y FLOAT NULL, ita_bonds_10y FLOAT NULL, grc_bonds_10y FLOAT NULL, hun_bonds_10y FLOAT NULL, jpn_call FLOAT NULL, official_discount_rate FLOAT NULL, usa_inter_rate FLOAT NULL, can_inter_rate FLOAT NULL, eur_inter_rate FLOAT NULL, gbr_inter_rate FLOAT NULL, she_inter_rate FLOAT NULL, zaf_inter_rate FLOAT NULL, hkg_inter_rate FLOAT NULL, aus_inter_rate FLOAT NULL, nzl_inter_rate FLOAT NULL, ind_inter_rate FLOAT NULL, chn_inter_rate FLOAT NULL, bra_inter_rate FLOAT NULL, rus_inter_rate FLOAT NULL, tur_inter_rate FLOAT NULL, mex_inter_rate FLOAT NULL, PRIMARY KEY(trading_date))\n",
    "'''\n",
    "cursor.execute(sql)\n",
    "\n",
    "cursor.execute(\"SHOW TABLES\")\n",
    "# fetchall:結果をリスト化する\n",
    "print(cursor.fetchall())"
   ]
  },
  {
   "cell_type": "code",
   "execution_count": null,
   "id": "a4498c34",
   "metadata": {},
   "outputs": [],
   "source": []
  }
 ],
 "metadata": {
  "kernelspec": {
   "display_name": "Python 3 (ipykernel)",
   "language": "python",
   "name": "python3"
  },
  "language_info": {
   "codemirror_mode": {
    "name": "ipython",
    "version": 3
   },
   "file_extension": ".py",
   "mimetype": "text/x-python",
   "name": "python",
   "nbconvert_exporter": "python",
   "pygments_lexer": "ipython3",
   "version": "3.9.7"
  }
 },
 "nbformat": 4,
 "nbformat_minor": 5
}
