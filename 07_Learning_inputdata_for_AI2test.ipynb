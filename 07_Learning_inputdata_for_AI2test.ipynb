{
 "cells": [
  {
   "cell_type": "code",
   "execution_count": 1,
   "id": "bb2cc550",
   "metadata": {},
   "outputs": [],
   "source": [
    "import numpy as np\n",
    "import pandas as pd\n",
    "import datetime as dt\n",
    "from pandas_datareader import DataReader\n",
    "from pandas import Series, DataFrame"
   ]
  },
  {
   "cell_type": "code",
   "execution_count": 2,
   "id": "abfe992e",
   "metadata": {},
   "outputs": [],
   "source": [
    "# 予想したい日の前日\n",
    "filedate = '20220311'\n",
    "# 機械学習累積データ作成日\n",
    "filedateAC = '20220311'"
   ]
  },
  {
   "cell_type": "code",
   "execution_count": 3,
   "id": "b0b92e11",
   "metadata": {},
   "outputs": [],
   "source": [
    "# 予想のために作成したinputデータ（予想したい日の前日）\n",
    "df_inputai_c = pd.read_csv('data/inputAI2_' + filedate + '.csv', index_col=0, header=[0], parse_dates=[0])"
   ]
  },
  {
   "cell_type": "code",
   "execution_count": 4,
   "id": "ef418ea8",
   "metadata": {},
   "outputs": [],
   "source": [
    "# 事前に作成した機械学習用データ（機械学習累積データ作成日）\n",
    "df_target = pd.read_csv('data/inputAIAC2_' + filedateAC + '.csv', index_col=0, header=[0], parse_dates=[0])"
   ]
  },
  {
   "cell_type": "code",
   "execution_count": 5,
   "id": "39b8f690",
   "metadata": {},
   "outputs": [],
   "source": [
    "# ここからscikit-learn用のデータクラスを持つオブジェクトを作る\n",
    "import sklearn"
   ]
  },
  {
   "cell_type": "code",
   "execution_count": 6,
   "id": "9384c3c0",
   "metadata": {},
   "outputs": [],
   "source": [
    "stockanalysis = sklearn.utils.Bunch()"
   ]
  },
  {
   "cell_type": "code",
   "execution_count": 7,
   "id": "f7f79dd6",
   "metadata": {},
   "outputs": [],
   "source": [
    "# Key_xを削除\n",
    "df_target = df_target.drop('key_x', axis=1)"
   ]
  },
  {
   "cell_type": "code",
   "execution_count": 8,
   "id": "8f085e00",
   "metadata": {},
   "outputs": [],
   "source": [
    "# 当日の前日比'Diff'を目的変数\"target\"とする\n",
    "stockanalysis['target'] = df_target['Diff_y']"
   ]
  },
  {
   "cell_type": "code",
   "execution_count": 9,
   "id": "9d9dd1b5",
   "metadata": {},
   "outputs": [],
   "source": [
    "# 説明変数を\"data\"に入れる\n",
    "stockanalysis['data'] = df_target.iloc[:, 0:169]"
   ]
  },
  {
   "cell_type": "code",
   "execution_count": 10,
   "id": "579f1e8a",
   "metadata": {},
   "outputs": [],
   "source": [
    "# 特徴量の名前も入れておく\n",
    "# stockanalysis['feature_names'] = ['PER', 'PBR', 'HAITO',\n",
    "#                                  'ROE', 'ROA', 'MA05',\n",
    "#                                  'MA25', 'MA75', 'RSI',\n",
    "#                                  'AdjClose', 'Close', 'High',            \n",
    "#                                  'Low', 'Open', 'Volume',           \n",
    "#                                  'INDR4', 'TSPLB', 'TSPLS',\n",
    "#                                  'PIN80B', 'PIN80S', 'Diff']"
   ]
  },
  {
   "cell_type": "code",
   "execution_count": 11,
   "id": "4591c42f",
   "metadata": {},
   "outputs": [],
   "source": [
    "# 訓練セットとテストセットに分割\n",
    "from sklearn.model_selection import train_test_split\n",
    "X_train, X_test, Y_train, Y_test = train_test_split(\n",
    "stockanalysis['data'], stockanalysis['target'], random_state=0)"
   ]
  },
  {
   "cell_type": "code",
   "execution_count": 12,
   "id": "cf8a8c6b",
   "metadata": {},
   "outputs": [
    {
     "name": "stdout",
     "output_type": "stream",
     "text": [
      "(7167, 169) (2390, 169) (7167,) (2390,)\n"
     ]
    }
   ],
   "source": [
    "# データ読み込み完了\n",
    "print(X_train.shape, X_test.shape, Y_train.shape, Y_test.shape)"
   ]
  },
  {
   "cell_type": "code",
   "execution_count": 13,
   "id": "b15bfeab",
   "metadata": {},
   "outputs": [],
   "source": [
    "from sklearn.linear_model import LinearRegression"
   ]
  },
  {
   "cell_type": "code",
   "execution_count": 14,
   "id": "791d183b",
   "metadata": {},
   "outputs": [],
   "source": [
    "lreg = LinearRegression()"
   ]
  },
  {
   "cell_type": "code",
   "execution_count": 15,
   "id": "a6ee213a",
   "metadata": {},
   "outputs": [
    {
     "data": {
      "text/plain": [
       "LinearRegression()"
      ]
     },
     "execution_count": 15,
     "metadata": {},
     "output_type": "execute_result"
    }
   ],
   "source": [
    "# fitでモデルを作りますが、使うのは学習用のデータだけです。\n",
    "lreg.fit(X_train, Y_train)"
   ]
  },
  {
   "cell_type": "code",
   "execution_count": 16,
   "id": "4e2a0a6e",
   "metadata": {},
   "outputs": [
    {
     "name": "stdout",
     "output_type": "stream",
     "text": [
      "[-2.08144792e-06 -2.67420847e-04 -4.37741311e-04  5.83589327e-05\n",
      " -2.15275604e-05  3.83918158e-03 -7.16522326e-04  2.32540088e-04\n",
      "  9.20254664e-05  2.93261426e-03 -2.92882383e-03 -3.53165168e-06\n",
      "  9.42689161e-06 -2.39053085e-05  4.81113682e-10 -4.49416769e-04\n",
      "  4.33378327e-04 -2.67778340e-05  4.53771148e-05 -3.23914560e-05\n",
      "  6.60253737e-10  7.72306199e-06  1.49060710e-05  1.22714305e-05\n",
      "  5.40481588e-06 -1.93129129e-05  1.82213227e-10  2.20656769e-07\n",
      " -2.15928405e-06 -5.31611464e-06  2.35846703e-05  1.76868339e-05\n",
      " -1.20837888e-09 -5.08386705e-06 -5.08389543e-06  4.90709883e-05\n",
      " -4.29846691e-05  1.94124530e-05 -1.30835552e-09 -2.42151315e-05\n",
      " -2.42151575e-05  1.22196696e-05 -1.78741494e-06 -6.14374283e-06\n",
      " -9.99583398e-10 -2.04301236e-04  2.37439155e-04 -1.12727924e-05\n",
      "  1.38057692e-05 -2.02296407e-05  2.02295623e-09 -5.89160804e-05\n",
      "  7.84206829e-05  1.20464971e-05 -7.24108902e-06 -1.69730091e-05\n",
      " -4.35360754e-10 -7.32205362e-05  7.26353060e-05 -2.69585725e-05\n",
      "  5.64840096e-05 -2.56816000e-05  4.90738919e-10  2.06333247e-04\n",
      " -2.16887785e-04 -1.51214490e-05  1.52640591e-05  3.13086678e-06\n",
      "  8.23350833e-10  2.59845693e-03 -4.97596143e-04 -6.06702588e-03\n",
      " -8.04601237e-04 -4.67268292e-03 -2.70823814e-01  8.75899830e-17\n",
      " -2.20022568e-15  5.13521517e-15 -3.94364988e-16 -1.25561996e-14\n",
      "  1.89540224e-15 -7.93425051e-08  1.55409155e-05 -1.22928198e-15\n",
      "  1.50530630e-15 -1.17120940e-15  3.88266350e-15 -1.17061309e-15\n",
      "  4.17945976e-06  1.32402769e-15 -2.04189747e-13  1.71044494e-13\n",
      " -4.64509074e-14  8.34326204e-08  9.95818144e-05 -1.60104934e-04\n",
      "  1.32922352e-05  1.95961682e-14  1.15010052e-13  1.08017807e-05\n",
      " -1.13916430e-05  5.66339543e-05 -5.45691254e-08 -1.07496191e-08\n",
      " -1.84868082e-08 -1.71010060e-08 -1.36710167e-08  9.20744279e-09\n",
      "  2.58819155e-08 -2.56677066e-08  1.64857824e-08 -2.26469158e-08\n",
      "  3.88659860e-08  3.46742579e-10 -2.65137289e-10  1.08180265e-10\n",
      " -9.65016170e-11  5.42497720e-08  2.77154512e-08  1.03499618e-09\n",
      "  1.92164369e-08 -4.52105140e-09  1.77327936e-08  2.68235717e-09\n",
      "  2.32687669e-09  1.79546658e-09  2.32300099e-09  3.35188781e-09\n",
      " -1.24798165e-08  4.94026727e-09 -4.49848691e-09 -6.56839713e-09\n",
      " -1.52944536e-08  1.33098327e-05 -1.58193283e-06  6.05668259e-06\n",
      "  6.65001299e-06  0.00000000e+00  8.32967299e-08 -1.45088898e-05\n",
      "  2.94620219e-06 -6.71556639e-06 -1.39230387e-06  0.00000000e+00\n",
      " -8.71027634e-08 -1.31856999e-05  5.00431974e-08 -9.05552540e-06\n",
      "  2.28274110e-06  0.00000000e+00 -6.67115552e-08 -8.48056882e-07\n",
      " -1.42601381e-06 -1.87935907e-06 -1.53644639e-06  0.00000000e+00\n",
      "  8.53320596e-09  1.50339749e-05 -2.83991582e-06  6.96273537e-06\n",
      "  5.58860941e-06  0.00000000e+00  2.47675578e-07 -2.29755074e-08\n",
      "  1.46803861e-08  5.11661627e-09 -7.76415881e-09  0.00000000e+00\n",
      " -3.95314290e-08]\n",
      "1.0116051755104627\n",
      "0.5191883596841533\n"
     ]
    }
   ],
   "source": [
    "# 回帰係数\n",
    "print(lreg.coef_)\n",
    "# 切片（誤差）\n",
    "print(lreg.intercept_)\n",
    "# 決定係数\n",
    "print(lreg.score(X_train, Y_train))"
   ]
  },
  {
   "cell_type": "code",
   "execution_count": 17,
   "id": "ccd67709",
   "metadata": {},
   "outputs": [],
   "source": [
    "# 予測を、学習用のデータと、テスト用のデータ、両方でやる。\n",
    "pred_train = lreg.predict(X_train)\n",
    "pred_test = lreg.predict(X_test)"
   ]
  },
  {
   "cell_type": "code",
   "execution_count": 18,
   "id": "434fd03f",
   "metadata": {},
   "outputs": [
    {
     "name": "stdout",
     "output_type": "stream",
     "text": [
      "X_trainを使ったモデルの平均二乗誤差＝4.47\n",
      "X_testを使ったモデルの平均二乗誤差＝4.66\n"
     ]
    }
   ],
   "source": [
    "print('X_trainを使ったモデルの平均二乗誤差＝{:0.2f}'.format(np.mean(((Y_train - pred_train)*100) ** 2)))\n",
    "    \n",
    "print('X_testを使ったモデルの平均二乗誤差＝{:0.2f}'.format(np.mean(((Y_test - pred_test)*100) ** 2)))"
   ]
  },
  {
   "cell_type": "code",
   "execution_count": 19,
   "id": "098b192c",
   "metadata": {},
   "outputs": [],
   "source": [
    "import matplotlib.pyplot as plt\n",
    "import seaborn as sns\n",
    "sns.set_style('whitegrid')\n",
    "%matplotlib inline"
   ]
  },
  {
   "cell_type": "code",
   "execution_count": 20,
   "id": "526859f7",
   "metadata": {},
   "outputs": [
    {
     "data": {
      "text/plain": [
       "Text(0.5, 1.0, 'Residual Plots')"
      ]
     },
     "execution_count": 20,
     "metadata": {},
     "output_type": "execute_result"
    },
    {
     "data": {
      "image/png": "[encoded data removed]",
      "text/plain": [
       "<Figure size 432x288 with 1 Axes>"
      ]
     },
     "metadata": {
      "needs_background": "light"
     },
     "output_type": "display_data"
    }
   ],
   "source": [
    "# 学習用のデータの残差プロットです。\n",
    "train = plt.scatter(pred_train,(pred_train-Y_train),c='b',alpha=0.5)\n",
    "\n",
    "# テスト用のデータの残差プロットです。\n",
    "test = plt.scatter(pred_test,(pred_test-Y_test),c='r',alpha=0.5)\n",
    "\n",
    "# y=0の水平な線を描いておきます。\n",
    "plt.hlines(y=0,xmin=-0.3,xmax=0.3)\n",
    "\n",
    "plt.legend((train,test),('Training','Test'),loc='lower left')\n",
    "plt.title('Residual Plots')"
   ]
  },
  {
   "cell_type": "code",
   "execution_count": 21,
   "id": "048a801c",
   "metadata": {},
   "outputs": [],
   "source": [
    "# Key_xを削除\n",
    "df_analysis = df_inputai_c.drop('key', axis=1)"
   ]
  },
  {
   "cell_type": "code",
   "execution_count": 22,
   "id": "23a4abba",
   "metadata": {},
   "outputs": [
    {
     "data": {
      "text/plain": [
       "Index(['PER', 'PBR', 'HAITO', 'ROE_x', 'ROA_x', 'MA05', 'MA25', 'MA75', 'RSI',\n",
       "       'AdjClose_c',\n",
       "       ...\n",
       "       '高値.10', '安値.10', '出来高.4', '前日比%.10', '終値.11', '始値.11', '高値.11',\n",
       "       '安値.11', '出来高.5', '前日比%.11'],\n",
       "      dtype='object', length=169)"
      ]
     },
     "execution_count": 22,
     "metadata": {},
     "output_type": "execute_result"
    }
   ],
   "source": [
    "df_analysis.columns"
   ]
  },
  {
   "cell_type": "code",
   "execution_count": 23,
   "id": "4cd60ae8",
   "metadata": {},
   "outputs": [],
   "source": [
    "# 説明変数を\"data\"に入れる\n",
    "df_analysis = df_analysis.iloc[:, 0:169]"
   ]
  },
  {
   "cell_type": "code",
   "execution_count": 24,
   "id": "9fee4fc5",
   "metadata": {},
   "outputs": [],
   "source": [
    "# 翌日の株価予想\n",
    "pred_test = lreg.predict(df_analysis)"
   ]
  },
  {
   "cell_type": "code",
   "execution_count": 25,
   "id": "a618f856",
   "metadata": {},
   "outputs": [],
   "source": [
    "# 翌日の株価予想データ取得\n",
    "np.savetxt('data/predict_' + filedate + '.csv', pred_test)"
   ]
  }
 ],
 "metadata": {
  "kernelspec": {
   "display_name": "Python 3 (ipykernel)",
   "language": "python",
   "name": "python3"
  },
  "language_info": {
   "codemirror_mode": {
    "name": "ipython",
    "version": 3
   },
   "file_extension": ".py",
   "mimetype": "text/x-python",
   "name": "python",
   "nbconvert_exporter": "python",
   "pygments_lexer": "ipython3",
   "version": "3.9.7"
  }
 },
 "nbformat": 4,
 "nbformat_minor": 5
}
