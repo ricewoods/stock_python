{
 "cells": [
  {
   "cell_type": "code",
   "execution_count": 1,
   "id": "bb2cc550",
   "metadata": {},
   "outputs": [],
   "source": [
    "import numpy as np\n",
    "import pandas as pd\n",
    "import datetime as dt\n",
    "from pandas_datareader import DataReader\n",
    "from pandas import Series, DataFrame"
   ]
  },
  {
   "cell_type": "code",
   "execution_count": 2,
   "id": "3ac76b11",
   "metadata": {},
   "outputs": [],
   "source": [
    "# 機械学習用データ作成（予想したい日の前日分までの累積）\n",
    "filedate = '20220407'"
   ]
  },
  {
   "cell_type": "code",
   "execution_count": 3,
   "id": "fc777917",
   "metadata": {},
   "outputs": [],
   "source": [
    "# AI用データを今日からデータがなくなるまで読み込みしてコンカチ\n",
    "# これまでにストックしたデータ(前日分)\n",
    "df_p1 = pd.read_csv('data/inputAI_20220304.csv', index_col=0, header=[0], parse_dates=[0])\n",
    "df_p2 = pd.read_csv('data/inputAI_20220307.csv', index_col=0, header=[0], parse_dates=[0])\n",
    "df_p3 = pd.read_csv('data/inputAI_20220308.csv', index_col=0, header=[0], parse_dates=[0])\n",
    "df_p4 = pd.read_csv('data/inputAI_20220309.csv', index_col=0, header=[0], parse_dates=[0])\n",
    "df_p5 = pd.read_csv('data/inputAI_20220310.csv', index_col=0, header=[0], parse_dates=[0])\n",
    "df_p6 = pd.read_csv('data/inputAI_20220311.csv', index_col=0, header=[0], parse_dates=[0])\n",
    "df_p7 = pd.read_csv('data/inputAI_20220314.csv', index_col=0, header=[0], parse_dates=[0])\n",
    "df_p8 = pd.read_csv('data/inputAI_20220315.csv', index_col=0, header=[0], parse_dates=[0])\n",
    "df_p9 = pd.read_csv('data/inputAI_20220316.csv', index_col=0, header=[0], parse_dates=[0])\n",
    "df_p10 = pd.read_csv('data/inputAI_20220317.csv', index_col=0, header=[0], parse_dates=[0])\n",
    "df_p11 = pd.read_csv('data/inputAI_20220318.csv', index_col=0, header=[0], parse_dates=[0])\n",
    "df_p12 = pd.read_csv('data/inputAI_20220322.csv', index_col=0, header=[0], parse_dates=[0])\n",
    "df_p13 = pd.read_csv('data/inputAI_20220323.csv', index_col=0, header=[0], parse_dates=[0])\n",
    "df_p14 = pd.read_csv('data/inputAI_20220324.csv', index_col=0, header=[0], parse_dates=[0])\n",
    "df_p15 = pd.read_csv('data/inputAI_20220325.csv', index_col=0, header=[0], parse_dates=[0])\n",
    "df_p16 = pd.read_csv('data/inputAI_20220328.csv', index_col=0, header=[0], parse_dates=[0])\n",
    "df_p17 = pd.read_csv('data/inputAI_20220329.csv', index_col=0, header=[0], parse_dates=[0])\n",
    "df_p18 = pd.read_csv('data/inputAI_20220330.csv', index_col=0, header=[0], parse_dates=[0])\n",
    "df_p19 = pd.read_csv('data/inputAI_20220331.csv', index_col=0, header=[0], parse_dates=[0])\n",
    "df_p20 = pd.read_csv('data/inputAI_20220401.csv', index_col=0, header=[0], parse_dates=[0])\n",
    "df_p21 = pd.read_csv('data/inputAI_20220404.csv', index_col=0, header=[0], parse_dates=[0])\n",
    "df_p22 = pd.read_csv('data/inputAI_20220405.csv', index_col=0, header=[0], parse_dates=[0])\n",
    "df_p23 = pd.read_csv('data/inputAI_20220406.csv', index_col=0, header=[0], parse_dates=[0])\n"
   ]
  },
  {
   "cell_type": "code",
   "execution_count": 4,
   "id": "cb2e22c5",
   "metadata": {},
   "outputs": [],
   "source": [
    "# AI用データを今日からデータがなくなるまで読み込みしてコンカチ\n",
    "# これまでにストックしたデータ(当日分)\n",
    "# df_inputai_c1 = pd.read_csv('data/inputAI_20220224.csv', index_col=0, header=[0], parse_dates=[0])\n",
    "# df_c1 = pd.read_csv('data/inputAI_20220225.csv', index_col=0, header=[0], parse_dates=[0])\n",
    "# df_c2 = pd.read_csv('data/inputAI_20220228.csv', index_col=0, header=[0], parse_dates=[0])\n",
    "# df_c3 = pd.read_csv('data/inputAI_20220301.csv', index_col=0, header=[0], parse_dates=[0])\n",
    "# df_c4 = pd.read_csv('data/inputAI_20220302.csv', index_col=0, header=[0], parse_dates=[0])\n",
    "# df_c5 = pd.read_csv('data/inputAI_20220303.csv', index_col=0, header=[0], parse_dates=[0])\n",
    "# df_c6 = pd.read_csv('data/inputAI_20220304.csv', index_col=0, header=[0], parse_dates=[0])\n",
    "df_c1 = pd.read_csv('data/inputAI_20220307.csv', index_col=0, header=[0], parse_dates=[0])\n",
    "df_c2 = pd.read_csv('data/inputAI_20220308.csv', index_col=0, header=[0], parse_dates=[0])\n",
    "df_c3 = pd.read_csv('data/inputAI_20220309.csv', index_col=0, header=[0], parse_dates=[0])\n",
    "df_c4 = pd.read_csv('data/inputAI_20220310.csv', index_col=0, header=[0], parse_dates=[0])\n",
    "df_c5 = pd.read_csv('data/inputAI_20220311.csv', index_col=0, header=[0], parse_dates=[0])\n",
    "df_c6 = pd.read_csv('data/inputAI_20220314.csv', index_col=0, header=[0], parse_dates=[0])\n",
    "df_c7 = pd.read_csv('data/inputAI_20220315.csv', index_col=0, header=[0], parse_dates=[0])\n",
    "df_c8 = pd.read_csv('data/inputAI_20220316.csv', index_col=0, header=[0], parse_dates=[0])\n",
    "df_c9 = pd.read_csv('data/inputAI_20220317.csv', index_col=0, header=[0], parse_dates=[0])\n",
    "df_c10 = pd.read_csv('data/inputAI_20220318.csv', index_col=0, header=[0], parse_dates=[0])\n",
    "df_c11 = pd.read_csv('data/inputAI_20220322.csv', index_col=0, header=[0], parse_dates=[0])\n",
    "df_c12 = pd.read_csv('data/inputAI_20220323.csv', index_col=0, header=[0], parse_dates=[0])\n",
    "df_c13 = pd.read_csv('data/inputAI_20220324.csv', index_col=0, header=[0], parse_dates=[0])\n",
    "df_c14 = pd.read_csv('data/inputAI_20220325.csv', index_col=0, header=[0], parse_dates=[0])\n",
    "df_c15 = pd.read_csv('data/inputAI_20220328.csv', index_col=0, header=[0], parse_dates=[0])\n",
    "df_c16 = pd.read_csv('data/inputAI_20220329.csv', index_col=0, header=[0], parse_dates=[0])\n",
    "df_c17 = pd.read_csv('data/inputAI_20220330.csv', index_col=0, header=[0], parse_dates=[0])\n",
    "df_c18 = pd.read_csv('data/inputAI_20220331.csv', index_col=0, header=[0], parse_dates=[0])\n",
    "df_c19 = pd.read_csv('data/inputAI_20220401.csv', index_col=0, header=[0], parse_dates=[0])\n",
    "df_c20 = pd.read_csv('data/inputAI_20220404.csv', index_col=0, header=[0], parse_dates=[0])\n",
    "df_c21 = pd.read_csv('data/inputAI_20220405.csv', index_col=0, header=[0], parse_dates=[0])\n",
    "df_c22 = pd.read_csv('data/inputAI_20220406.csv', index_col=0, header=[0], parse_dates=[0])\n",
    "df_c23 = pd.read_csv('data/inputAI_20220407.csv', index_col=0, header=[0], parse_dates=[0])\n"
   ]
  },
  {
   "cell_type": "code",
   "execution_count": 5,
   "id": "b9331ac2",
   "metadata": {},
   "outputs": [],
   "source": [
    "# DataFrameをIndexでマージ\n",
    "# df_t1 = pd.merge(df_p1, df_c1, left_index=True, right_index=True, how='inner')\n",
    "# df_t2 = pd.merge(df_p2, df_c2, left_index=True, right_index=True, how='inner')\n",
    "# df_t3 = pd.merge(df_p3, df_c3, left_index=True, right_index=True, how='inner')\n",
    "# df_t4 = pd.merge(df_p4, df_c4, left_index=True, right_index=True, how='inner')\n",
    "# df_t5 = pd.merge(df_p5, df_c5, left_index=True, right_index=True, how='inner')\n",
    "# df_t6 = pd.merge(df_p6, df_c6, left_index=True, right_index=True, how='inner')\n",
    "df_t1 = pd.merge(df_p1, df_c1, left_index=True, right_index=True, how='inner')\n",
    "df_t2 = pd.merge(df_p2, df_c2, left_index=True, right_index=True, how='inner')\n",
    "df_t3 = pd.merge(df_p3, df_c3, left_index=True, right_index=True, how='inner')\n",
    "df_t4 = pd.merge(df_p4, df_c4, left_index=True, right_index=True, how='inner')\n",
    "df_t5 = pd.merge(df_p5, df_c5, left_index=True, right_index=True, how='inner')\n",
    "df_t6 = pd.merge(df_p6, df_c6, left_index=True, right_index=True, how='inner')\n",
    "df_t7 = pd.merge(df_p7, df_c7, left_index=True, right_index=True, how='inner')\n",
    "df_t8 = pd.merge(df_p8, df_c8, left_index=True, right_index=True, how='inner')\n",
    "df_t9 = pd.merge(df_p9, df_c9, left_index=True, right_index=True, how='inner')\n",
    "df_t10 = pd.merge(df_p10, df_c10, left_index=True, right_index=True, how='inner')\n",
    "df_t11 = pd.merge(df_p11, df_c11, left_index=True, right_index=True, how='inner')\n",
    "df_t12 = pd.merge(df_p12, df_c12, left_index=True, right_index=True, how='inner')\n",
    "df_t13 = pd.merge(df_p13, df_c13, left_index=True, right_index=True, how='inner')\n",
    "df_t14 = pd.merge(df_p14, df_c14, left_index=True, right_index=True, how='inner')\n",
    "df_t15 = pd.merge(df_p15, df_c15, left_index=True, right_index=True, how='inner')\n",
    "df_t16 = pd.merge(df_p16, df_c16, left_index=True, right_index=True, how='inner')\n",
    "df_t17 = pd.merge(df_p17, df_c17, left_index=True, right_index=True, how='inner')\n",
    "df_t18 = pd.merge(df_p18, df_c18, left_index=True, right_index=True, how='inner')\n",
    "df_t19 = pd.merge(df_p19, df_c19, left_index=True, right_index=True, how='inner')\n",
    "df_t20 = pd.merge(df_p20, df_c20, left_index=True, right_index=True, how='inner')\n",
    "df_t21 = pd.merge(df_p21, df_c21, left_index=True, right_index=True, how='inner')\n",
    "df_t22 = pd.merge(df_p22, df_c22, left_index=True, right_index=True, how='inner')\n",
    "df_t23 = pd.merge(df_p23, df_c23, left_index=True, right_index=True, how='inner')\n"
   ]
  },
  {
   "cell_type": "code",
   "execution_count": 6,
   "id": "4cc07862",
   "metadata": {},
   "outputs": [],
   "source": [
    "# 上記データをコンカチ\n",
    "# df_inputAI = pd.concat([df_t1, df_t2, df_t3, df_t4, df_t5, df_t6])\n",
    "df_inputAI = pd.concat([df_t1, df_t2, df_t3, df_t4, df_t5, df_t6, df_t7,\n",
    "                        df_t8, df_t9, df_t10, df_t11, df_t12, df_t13,\n",
    "                        df_t14, df_t15, df_t16, df_t17, df_t18, df_t19,\n",
    "                        df_t20, df_t21, df_t22, df_t23])"
   ]
  },
  {
   "cell_type": "code",
   "execution_count": 7,
   "id": "bae06851",
   "metadata": {},
   "outputs": [
    {
     "data": {
      "text/plain": [
       "PER_x       False\n",
       "PBR_x       False\n",
       "HAITO_x     False\n",
       "ROE_x_x     False\n",
       "ROA_x_x     False\n",
       "            ...  \n",
       "剰余金の配当_y    False\n",
       "自社株買い_y     False\n",
       "配当性向_y      False\n",
       "総還元性向_y     False\n",
       "純資産配当率_y    False\n",
       "Length: 206, dtype: bool"
      ]
     },
     "execution_count": 7,
     "metadata": {},
     "output_type": "execute_result"
    }
   ],
   "source": [
    "# データチェック\n",
    "df_inputAI.isnull().any()"
   ]
  },
  {
   "cell_type": "code",
   "execution_count": 8,
   "id": "67fec271",
   "metadata": {},
   "outputs": [],
   "source": [
    "df_inputAI.to_csv('data/inputAIAC_' + filedate + '.csv')"
   ]
  },
  {
   "cell_type": "code",
   "execution_count": null,
   "id": "1f0cdd7f",
   "metadata": {},
   "outputs": [],
   "source": []
  },
  {
   "cell_type": "code",
   "execution_count": null,
   "id": "c64260aa",
   "metadata": {},
   "outputs": [],
   "source": []
  }
 ],
 "metadata": {
  "kernelspec": {
   "display_name": "Python 3 (ipykernel)",
   "language": "python",
   "name": "python3"
  },
  "language_info": {
   "codemirror_mode": {
    "name": "ipython",
    "version": 3
   },
   "file_extension": ".py",
   "mimetype": "text/x-python",
   "name": "python",
   "nbconvert_exporter": "python",
   "pygments_lexer": "ipython3",
   "version": "3.9.7"
  }
 },
 "nbformat": 4,
 "nbformat_minor": 5
}
