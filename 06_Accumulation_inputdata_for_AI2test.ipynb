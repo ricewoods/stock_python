{
 "cells": [
  {
   "cell_type": "code",
   "execution_count": 1,
   "id": "bb2cc550",
   "metadata": {},
   "outputs": [],
   "source": [
    "import numpy as np\n",
    "import pandas as pd\n",
    "import datetime as dt\n",
    "from pandas_datareader import DataReader\n",
    "from pandas import Series, DataFrame"
   ]
  },
  {
   "cell_type": "code",
   "execution_count": 2,
   "id": "3ac76b11",
   "metadata": {},
   "outputs": [],
   "source": [
    "# 機械学習用データ作成（予想したい日の前日分までの累積）\n",
    "filedate = '20220311'"
   ]
  },
  {
   "cell_type": "code",
   "execution_count": 3,
   "id": "fc777917",
   "metadata": {},
   "outputs": [],
   "source": [
    "# AI用データを今日からデータがなくなるまで読み込みしてコンカチ\n",
    "# これまでにストックしたデータ(前日分)\n",
    "df_p1 = pd.read_csv('data/inputAI2_20220304.csv', index_col=0, header=[0], parse_dates=[0])\n",
    "df_p2 = pd.read_csv('data/inputAI2_20220307.csv', index_col=0, header=[0], parse_dates=[0])\n",
    "df_p3 = pd.read_csv('data/inputAI2_20220308.csv', index_col=0, header=[0], parse_dates=[0])\n",
    "df_p4 = pd.read_csv('data/inputAI2_20220309.csv', index_col=0, header=[0], parse_dates=[0])\n",
    "df_p5 = pd.read_csv('data/inputAI2_20220310.csv', index_col=0, header=[0], parse_dates=[0])"
   ]
  },
  {
   "cell_type": "code",
   "execution_count": 4,
   "id": "cb2e22c5",
   "metadata": {},
   "outputs": [],
   "source": [
    "# AI用データを今日からデータがなくなるまで読み込みしてコンカチ\n",
    "# これまでにストックしたデータ(当日分)\n",
    "df_c1 = pd.read_csv('data/inputAI2_20220307.csv', index_col=0, header=[0], parse_dates=[0])\n",
    "df_c2 = pd.read_csv('data/inputAI2_20220308.csv', index_col=0, header=[0], parse_dates=[0])\n",
    "df_c3 = pd.read_csv('data/inputAI2_20220309.csv', index_col=0, header=[0], parse_dates=[0])\n",
    "df_c4 = pd.read_csv('data/inputAI2_20220310.csv', index_col=0, header=[0], parse_dates=[0])\n",
    "df_c5 = pd.read_csv('data/inputAI2_20220311.csv', index_col=0, header=[0], parse_dates=[0])"
   ]
  },
  {
   "cell_type": "code",
   "execution_count": 5,
   "id": "b9331ac2",
   "metadata": {},
   "outputs": [],
   "source": [
    "# DataFrameをIndexでマージ\n",
    "df_t1 = pd.merge(df_p1, df_c1, left_index=True, right_index=True, how='inner')\n",
    "df_t2 = pd.merge(df_p2, df_c2, left_index=True, right_index=True, how='inner')\n",
    "df_t3 = pd.merge(df_p3, df_c3, left_index=True, right_index=True, how='inner')\n",
    "df_t4 = pd.merge(df_p4, df_c4, left_index=True, right_index=True, how='inner')\n",
    "df_t5 = pd.merge(df_p5, df_c5, left_index=True, right_index=True, how='inner')"
   ]
  },
  {
   "cell_type": "code",
   "execution_count": 6,
   "id": "4cc07862",
   "metadata": {},
   "outputs": [],
   "source": [
    "# 上記データをコンカチ\n",
    "# df_inputAI = pd.concat([df_t1, df_t2, df_t3, df_t4, df_t5, df_t6])\n",
    "df_inputAI = pd.concat([df_t1, df_t2, df_t3, df_t4, df_t5])"
   ]
  },
  {
   "cell_type": "code",
   "execution_count": 7,
   "id": "bae06851",
   "metadata": {},
   "outputs": [
    {
     "data": {
      "text/plain": [
       "PER_x        False\n",
       "PBR_x        False\n",
       "HAITO_x      False\n",
       "ROE_x_x      False\n",
       "ROA_x_x      False\n",
       "             ...  \n",
       "始値.11_y      False\n",
       "高値.11_y      False\n",
       "安値.11_y      False\n",
       "出来高.5_y      False\n",
       "前日比%.11_y    False\n",
       "Length: 340, dtype: bool"
      ]
     },
     "execution_count": 7,
     "metadata": {},
     "output_type": "execute_result"
    }
   ],
   "source": [
    "# データチェック\n",
    "df_inputAI.isnull().any()"
   ]
  },
  {
   "cell_type": "code",
   "execution_count": 8,
   "id": "67fec271",
   "metadata": {},
   "outputs": [],
   "source": [
    "df_inputAI.to_csv('data/inputAIAC2_' + filedate + '.csv')"
   ]
  },
  {
   "cell_type": "code",
   "execution_count": null,
   "id": "1f0cdd7f",
   "metadata": {},
   "outputs": [],
   "source": []
  },
  {
   "cell_type": "code",
   "execution_count": null,
   "id": "c64260aa",
   "metadata": {},
   "outputs": [],
   "source": []
  }
 ],
 "metadata": {
  "kernelspec": {
   "display_name": "Python 3 (ipykernel)",
   "language": "python",
   "name": "python3"
  },
  "language_info": {
   "codemirror_mode": {
    "name": "ipython",
    "version": 3
   },
   "file_extension": ".py",
   "mimetype": "text/x-python",
   "name": "python",
   "nbconvert_exporter": "python",
   "pygments_lexer": "ipython3",
   "version": "3.9.7"
  }
 },
 "nbformat": 4,
 "nbformat_minor": 5
}
