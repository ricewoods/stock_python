{
 "cells": [
  {
   "cell_type": "code",
   "execution_count": 1,
   "id": "63340861",
   "metadata": {},
   "outputs": [],
   "source": [
    "import numpy as np\n",
    "import pandas as pd\n",
    "import datetime as dt\n",
    "from pandas_datareader import DataReader\n",
    "from pandas import Series, DataFrame"
   ]
  },
  {
   "cell_type": "code",
   "execution_count": 2,
   "id": "519c9ecf",
   "metadata": {},
   "outputs": [],
   "source": [
    "# 機械学習用データ作成（予想したい日の前日分までの累積）\n",
    "filedate = '20220407'"
   ]
  },
  {
   "cell_type": "code",
   "execution_count": 3,
   "id": "53f6f02e",
   "metadata": {},
   "outputs": [],
   "source": [
    "#2022/4/4以降のデータ(Columns=4-8,4.1-8.1,4.2-8.2)\n",
    "# df_c1 = pd.read_csv('data/inputAI2_20220404.csv', index_col=0, header=[0], parse_dates=[0])\n",
    "df_c1 = pd.read_csv('data/market_' + filedate + '.csv', index_col=0, header=[0], parse_dates=[0])\n"
   ]
  },
  {
   "cell_type": "code",
   "execution_count": 4,
   "id": "5bad676f",
   "metadata": {},
   "outputs": [],
   "source": [
    "# ,inplace=True\n",
    "df_c1.drop(columns=['4','5','6','7','8','4.1','5.1','6.1','7.1','8.1',\n",
    "                   '4.2','5.2','6.2','7.2','8.2'],inplace=True)"
   ]
  },
  {
   "cell_type": "code",
   "execution_count": 5,
   "id": "a31d6581",
   "metadata": {},
   "outputs": [],
   "source": [
    "df_c1.to_csv('data/market_' + filedate + '.csv')"
   ]
  }
 ],
 "metadata": {
  "kernelspec": {
   "display_name": "Python 3 (ipykernel)",
   "language": "python",
   "name": "python3"
  },
  "language_info": {
   "codemirror_mode": {
    "name": "ipython",
    "version": 3
   },
   "file_extension": ".py",
   "mimetype": "text/x-python",
   "name": "python",
   "nbconvert_exporter": "python",
   "pygments_lexer": "ipython3",
   "version": "3.9.7"
  }
 },
 "nbformat": 4,
 "nbformat_minor": 5
}
