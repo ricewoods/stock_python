{
 "cells": [
  {
   "cell_type": "code",
   "execution_count": 1,
   "id": "4b58f790",
   "metadata": {},
   "outputs": [],
   "source": [
    "import numpy as np\n",
    "import pandas as pd\n",
    "import datetime as dt\n",
    "from pandas_datareader import DataReader\n",
    "from pandas import Series, DataFrame"
   ]
  },
  {
   "cell_type": "code",
   "execution_count": 2,
   "id": "759f1a86",
   "metadata": {},
   "outputs": [],
   "source": [
    "# 引数の取得\n",
    "#filedate = '20220315'\n",
    "import sys\n",
    "filedate = sys.argv[0]"
   ]
  },
  {
   "cell_type": "code",
   "execution_count": 3,
   "id": "cace28d6",
   "metadata": {},
   "outputs": [],
   "source": [
    "df_stock = pd.read_csv('data/stock_' + filedate + '.csv', index_col=0, header=[0,1], parse_dates=[0])"
   ]
  },
  {
   "cell_type": "code",
   "execution_count": 4,
   "id": "438a703a",
   "metadata": {},
   "outputs": [],
   "source": [
    "df_idnr1 = df_stock.tail(4)"
   ]
  },
  {
   "cell_type": "code",
   "execution_count": 5,
   "id": "a2195bd9",
   "metadata": {},
   "outputs": [],
   "source": [
    "# 階層構造を逆にすることができます。今回は列方向で試します。\n",
    "df_idnr1 = df_idnr1.swaplevel('Attributes','Symbols',axis=1)"
   ]
  },
  {
   "cell_type": "code",
   "execution_count": 6,
   "id": "e1d72815",
   "metadata": {},
   "outputs": [],
   "source": [
    "df_idnr1.sort_values(by=['Symbols', 'Attributes'], axis=1, inplace=True)"
   ]
  },
  {
   "cell_type": "code",
   "execution_count": 7,
   "id": "d265425a",
   "metadata": {},
   "outputs": [],
   "source": [
    "# マルチインデックスのカラム名を取得する\n",
    "list = df_idnr1.columns.get_level_values('Symbols')"
   ]
  },
  {
   "cell_type": "code",
   "execution_count": 8,
   "id": "c900d280",
   "metadata": {},
   "outputs": [
    {
     "name": "stderr",
     "output_type": "stream",
     "text": [
      "C:\\Users\\ricew\\AppData\\Local\\Temp/ipykernel_77664/3198842456.py:3: PerformanceWarning: DataFrame is highly fragmented.  This is usually the result of calling `frame.insert` many times, which has poor performance.  Consider joining all columns at once using pd.concat(axis=1) instead.  To get a de-fragmented frame, use `newframe = frame.copy()`\n",
      "  df_idnr1[i, 'diff'] = df_idnr1[i, 'High'] - df_idnr1[i, 'Low']\n"
     ]
    }
   ],
   "source": [
    "# High-Lowの計算結果を新たな列として追加\n",
    "for i in list: \n",
    "    df_idnr1[i, 'diff'] = df_idnr1[i, 'High'] - df_idnr1[i, 'Low']"
   ]
  },
  {
   "cell_type": "code",
   "execution_count": 9,
   "id": "d41b4a74",
   "metadata": {},
   "outputs": [],
   "source": [
    "df_idnr1.sort_values(by=['Symbols', 'Attributes'], axis=1, inplace=True)"
   ]
  },
  {
   "cell_type": "code",
   "execution_count": 10,
   "id": "0168f0e1",
   "metadata": {},
   "outputs": [],
   "source": [
    "df_sel = df_idnr1.loc[:, (slice(None),'diff')].idxmin()"
   ]
  },
  {
   "cell_type": "code",
   "execution_count": 11,
   "id": "26d1f426",
   "metadata": {},
   "outputs": [],
   "source": [
    "# 高値と安値の幅が直近で最小になっている銘柄を抽出\n",
    "df_sel2 = df_sel.unstack(level=1)"
   ]
  },
  {
   "cell_type": "code",
   "execution_count": 12,
   "id": "7bc1d143",
   "metadata": {},
   "outputs": [],
   "source": [
    "# 直近がファイル作成日付と一致する行を抽出\n",
    "df_sel3 = df_sel2['diff'].dt.date == pd.to_datetime(filedate).date()"
   ]
  },
  {
   "cell_type": "code",
   "execution_count": 13,
   "id": "93960c52",
   "metadata": {},
   "outputs": [],
   "source": [
    "# indexを連番に振り直して元のインデックスは削除\n",
    "df_idnr2 = df_idnr1.tail(2).reset_index(drop=True)"
   ]
  },
  {
   "cell_type": "code",
   "execution_count": 14,
   "id": "47bb8377",
   "metadata": {},
   "outputs": [],
   "source": [
    "df_idnr2 = df_idnr2.T"
   ]
  },
  {
   "cell_type": "code",
   "execution_count": 15,
   "id": "b6e4c5f2",
   "metadata": {},
   "outputs": [],
   "source": [
    "df_idnr2 = df_idnr2.pivot_table(index=['Symbols'], columns=['Attributes'])"
   ]
  },
  {
   "cell_type": "code",
   "execution_count": 16,
   "id": "07a3164c",
   "metadata": {},
   "outputs": [],
   "source": [
    "# 日付の比較Datetimeから日付のみを取得して比較\n",
    "df_idnr3 = df_idnr2[\n",
    "            (df_idnr2[(0, 'High')] > df_idnr2[(1, 'High')]) &\n",
    "            (df_idnr2[(0, 'Low')] < df_idnr2[(1, 'Low')])\n",
    "            ]"
   ]
  },
  {
   "cell_type": "code",
   "execution_count": 17,
   "id": "1043b3a0",
   "metadata": {},
   "outputs": [],
   "source": [
    "#　前日分の情報は削除\n",
    "df_idnr4 = df_idnr3.drop(0, axis=1)"
   ]
  },
  {
   "cell_type": "code",
   "execution_count": 18,
   "id": "29eb5b71",
   "metadata": {},
   "outputs": [],
   "source": [
    "# 最上層の列を削除\n",
    "df_idnr4 = df_idnr4.droplevel(0, axis=1)"
   ]
  },
  {
   "cell_type": "code",
   "execution_count": 19,
   "id": "ff246121",
   "metadata": {},
   "outputs": [
    {
     "name": "stderr",
     "output_type": "stream",
     "text": [
      "C:\\Users\\ricew\\AppData\\Local\\Temp/ipykernel_77664/1337780265.py:1: UserWarning: Boolean Series key will be reindexed to match DataFrame index.\n",
      "  df_idnr5 = df_idnr4[df_sel3]\n"
     ]
    }
   ],
   "source": [
    "df_idnr5 = df_idnr4[df_sel3]"
   ]
  },
  {
   "cell_type": "code",
   "execution_count": 20,
   "id": "dfb1e158",
   "metadata": {},
   "outputs": [],
   "source": [
    "df_idnr5.to_csv('data/idnr4_' + filedate + '.csv')"
   ]
  },
  {
   "cell_type": "code",
   "execution_count": null,
   "id": "82e6785e",
   "metadata": {},
   "outputs": [],
   "source": []
  }
 ],
 "metadata": {
  "kernelspec": {
   "display_name": "Python 3 (ipykernel)",
   "language": "python",
   "name": "python3"
  },
  "language_info": {
   "codemirror_mode": {
    "name": "ipython",
    "version": 3
   },
   "file_extension": ".py",
   "mimetype": "text/x-python",
   "name": "python",
   "nbconvert_exporter": "python",
   "pygments_lexer": "ipython3",
   "version": "3.9.7"
  }
 },
 "nbformat": 4,
 "nbformat_minor": 5
}
