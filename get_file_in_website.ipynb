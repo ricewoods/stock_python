{
 "cells": [
  {
   "cell_type": "code",
   "execution_count": 80,
   "id": "1b57dfeb",
   "metadata": {},
   "outputs": [],
   "source": [
    "import urllib.request"
   ]
  },
  {
   "cell_type": "code",
   "execution_count": 112,
   "id": "678ebb61",
   "metadata": {},
   "outputs": [],
   "source": [
    "def download():\n",
    "    url = \"https://f.irbank.net/files/0000/\"\n",
    "    csvfiles = ['fy-balance-sheet.csv','fy-cash-flow-statement.csv','fy-profit-and-loss.csv','fy-stock-dividend.csv','qq-yoy-net-sales.csv','qq-yoy-operating-income.csv','qq-yoy-ordinary-income.csv','qq-yoy-profit-loss.csv']\n",
    "    \n",
    "    for csvfile in csvfiles:\n",
    "        data = urllib.request.urlopen(url + csvfile).read()\n",
    "        with open('/tmp/' + csvfile, mode=\"wb\") as f:\n",
    "            f.write(data)\n",
    "    \n",
    "    return csvfiles"
   ]
  },
  {
   "cell_type": "code",
   "execution_count": 113,
   "id": "1b75eb3a",
   "metadata": {},
   "outputs": [],
   "source": [
    "if __name__ == \"__main__\":\n",
    "    csvfiles = download()"
   ]
  },
  {
   "cell_type": "code",
   "execution_count": null,
   "id": "f75a554d",
   "metadata": {},
   "outputs": [],
   "source": []
  }
 ],
 "metadata": {
  "kernelspec": {
   "display_name": "Python 3 (ipykernel)",
   "language": "python",
   "name": "python3"
  },
  "language_info": {
   "codemirror_mode": {
    "name": "ipython",
    "version": 3
   },
   "file_extension": ".py",
   "mimetype": "text/x-python",
   "name": "python",
   "nbconvert_exporter": "python",
   "pygments_lexer": "ipython3",
   "version": "3.9.7"
  }
 },
 "nbformat": 4,
 "nbformat_minor": 5
}
