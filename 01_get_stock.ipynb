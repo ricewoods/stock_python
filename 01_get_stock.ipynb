{
 "cells": [
  {
   "cell_type": "code",
   "execution_count": 1,
   "id": "c8d098fd",
   "metadata": {},
   "outputs": [],
   "source": [
    "# 実行は必ず20時以降、翌日の8時前に実施する\n",
    "import numpy as np\n",
    "import pandas as pd\n",
    "import datetime as dt\n",
    "from pandas_datareader import DataReader\n",
    "from pandas import Series, DataFrame"
   ]
  },
  {
   "cell_type": "code",
   "execution_count": 2,
   "id": "853135f7",
   "metadata": {},
   "outputs": [],
   "source": [
    "df_tosho = pd.read_excel('data/data_j.xls', sheet_name=\"Sheet1\")"
   ]
  },
  {
   "cell_type": "code",
   "execution_count": 3,
   "id": "4ea7cae4",
   "metadata": {},
   "outputs": [
    {
     "name": "stderr",
     "output_type": "stream",
     "text": [
      "C:\\Users\\ricew\\AppData\\Local\\Temp/ipykernel_86224/487877055.py:4: SettingWithCopyWarning: \n",
      "A value is trying to be set on a copy of a slice from a DataFrame.\n",
      "Try using .loc[row_indexer,col_indexer] = value instead\n",
      "\n",
      "See the caveats in the documentation: https://pandas.pydata.org/pandas-docs/stable/user_guide/indexing.html#returning-a-view-versus-a-copy\n",
      "  tokyo_st_lists['key'] = df_tosho[\"コード\"].astype(str) + \".T\"\n"
     ]
    }
   ],
   "source": [
    "# tokyo_st_lists = df1[(df1['市場・商品区分'] == '市場第一部（内国株）') & (df1['33業種区分'] == '水産・農林業') ]\n",
    "tokyo_st_lists = df_tosho[df_tosho['市場・商品区分'].str.contains('市場第')]\n",
    "# print(df['name'] + '-' + df['age'].astype(str)) <-数値項目にastype(str)を付ける\n",
    "tokyo_st_lists['key'] = df_tosho[\"コード\"].astype(str) + \".T\""
   ]
  },
  {
   "cell_type": "code",
   "execution_count": 4,
   "id": "af553c0c",
   "metadata": {},
   "outputs": [],
   "source": [
    "end = dt.datetime.now()\n",
    "start = end - dt.timedelta(days = 30)"
   ]
  },
  {
   "cell_type": "code",
   "execution_count": 5,
   "id": "5fd60e03",
   "metadata": {},
   "outputs": [
    {
     "name": "stderr",
     "output_type": "stream",
     "text": [
      "C:\\Users\\ricew\\anaconda3\\lib\\site-packages\\pandas_datareader\\base.py:272: SymbolWarning: Failed to read symbol: '25935.T', replacing with NaN.\n",
      "  warnings.warn(msg.format(sym), SymbolWarning)\n",
      "C:\\Users\\ricew\\anaconda3\\lib\\site-packages\\pandas_datareader\\base.py:272: SymbolWarning: Failed to read symbol: '3658.T', replacing with NaN.\n",
      "  warnings.warn(msg.format(sym), SymbolWarning)\n",
      "C:\\Users\\ricew\\anaconda3\\lib\\site-packages\\pandas_datareader\\base.py:272: SymbolWarning: Failed to read symbol: '6271.T', replacing with NaN.\n",
      "  warnings.warn(msg.format(sym), SymbolWarning)\n",
      "C:\\Users\\ricew\\anaconda3\\lib\\site-packages\\pandas_datareader\\base.py:272: SymbolWarning: Failed to read symbol: '7862.T', replacing with NaN.\n",
      "  warnings.warn(msg.format(sym), SymbolWarning)\n",
      "C:\\Users\\ricew\\anaconda3\\lib\\site-packages\\pandas_datareader\\base.py:272: SymbolWarning: Failed to read symbol: '9358.T', replacing with NaN.\n",
      "  warnings.warn(msg.format(sym), SymbolWarning)\n"
     ]
    }
   ],
   "source": [
    "# for stock in tokyo_st_lists['key']:\n",
    "\n",
    "df_stock = DataReader(tokyo_st_lists['key'].values, 'yahoo', start, end)"
   ]
  },
  {
   "cell_type": "code",
   "execution_count": 6,
   "id": "848d1b2c",
   "metadata": {},
   "outputs": [],
   "source": [
    "df_stock.to_csv('data/stock_20220316.csv')"
   ]
  },
  {
   "cell_type": "code",
   "execution_count": null,
   "id": "eaa39c6b",
   "metadata": {},
   "outputs": [],
   "source": []
  },
  {
   "cell_type": "code",
   "execution_count": null,
   "id": "01c0bbdb",
   "metadata": {},
   "outputs": [],
   "source": []
  }
 ],
 "metadata": {
  "kernelspec": {
   "display_name": "Python 3 (ipykernel)",
   "language": "python",
   "name": "python3"
  },
  "language_info": {
   "codemirror_mode": {
    "name": "ipython",
    "version": 3
   },
   "file_extension": ".py",
   "mimetype": "text/x-python",
   "name": "python",
   "nbconvert_exporter": "python",
   "pygments_lexer": "ipython3",
   "version": "3.9.7"
  }
 },
 "nbformat": 4,
 "nbformat_minor": 5
}
