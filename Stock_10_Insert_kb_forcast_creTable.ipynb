{
 "cells": [
  {
   "cell_type": "code",
   "execution_count": 1,
   "id": "95b89cab",
   "metadata": {},
   "outputs": [],
   "source": [
    "# MySQLdbのインポート\n",
    "import MySQLdb"
   ]
  },
  {
   "cell_type": "code",
   "execution_count": 2,
   "id": "44790c94",
   "metadata": {},
   "outputs": [],
   "source": [
    "# データベースへの接続とカーソルの生成\n",
    "connection = MySQLdb.connect(\n",
    "    host='localhost',\n",
    "    port=13306,\n",
    "    user='cyamaryan',\n",
    "    passwd='python',\n",
    "    db='stock',\n",
    "    charset='utf8')\n",
    "cursor = connection.cursor()"
   ]
  },
  {
   "cell_type": "code",
   "execution_count": 3,
   "id": "f4552062",
   "metadata": {},
   "outputs": [
    {
     "name": "stdout",
     "output_type": "stream",
     "text": [
      "(('kb_brand',), ('kb_finance',), ('kb_idnr4',), ('kb_market',), ('kb_pin80b',), ('kb_pin80s',), ('kb_stindex',), ('kb_turtleb',), ('kb_turtles',), ('kb_values',))\n"
     ]
    }
   ],
   "source": [
    "# テーブル削除\n",
    "sql = '''\n",
    "DROP TABLE kb_forcast\n",
    "'''\n",
    "cursor.execute(sql)\n",
    "\n",
    "cursor.execute(\"SHOW TABLES\")\n",
    "# fetchall:結果をリスト化する\n",
    "print(cursor.fetchall())"
   ]
  },
  {
   "cell_type": "code",
   "execution_count": 4,
   "id": "24872287",
   "metadata": {},
   "outputs": [
    {
     "name": "stdout",
     "output_type": "stream",
     "text": [
      "(('kb_brand',), ('kb_finance',), ('kb_forcast',), ('kb_idnr4',), ('kb_market',), ('kb_pin80b',), ('kb_pin80s',), ('kb_stindex',), ('kb_turtleb',), ('kb_turtles',), ('kb_values',))\n"
     ]
    }
   ],
   "source": [
    "# テーブル作成(kb_forcast)\n",
    "sql = '''\n",
    "CREATE TABLE kb_forcast(code INT NOT NULL, trading_date DATE NOT NULL, forcast FLOAT NULL, close_f FLOAT NULL, momentum VARCHAR(50) NULL, PRIMARY KEY(code,trading_date))\n",
    "'''\n",
    "cursor.execute(sql)\n",
    "\n",
    "cursor.execute(\"SHOW TABLES\")\n",
    "# fetchall:結果をリスト化する\n",
    "print(cursor.fetchall())"
   ]
  },
  {
   "cell_type": "code",
   "execution_count": null,
   "id": "ba548ca0",
   "metadata": {},
   "outputs": [],
   "source": []
  }
 ],
 "metadata": {
  "kernelspec": {
   "display_name": "Python 3 (ipykernel)",
   "language": "python",
   "name": "python3"
  },
  "language_info": {
   "codemirror_mode": {
    "name": "ipython",
    "version": 3
   },
   "file_extension": ".py",
   "mimetype": "text/x-python",
   "name": "python",
   "nbconvert_exporter": "python",
   "pygments_lexer": "ipython3",
   "version": "3.9.7"
  }
 },
 "nbformat": 4,
 "nbformat_minor": 5
}
