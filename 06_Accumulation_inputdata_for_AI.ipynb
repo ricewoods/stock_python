{
 "cells": [
  {
   "cell_type": "code",
   "execution_count": 1,
   "id": "bb2cc550",
   "metadata": {},
   "outputs": [],
   "source": [
    "import numpy as np\n",
    "import pandas as pd\n",
    "import datetime as dt\n",
    "from pandas_datareader import DataReader\n",
    "from pandas import Series, DataFrame"
   ]
  },
  {
   "cell_type": "code",
   "execution_count": 2,
   "id": "3ac76b11",
   "metadata": {},
   "outputs": [],
   "source": [
    "# 機械学習用データ作成（予想したい日の前日分までの累積）\n",
    "filedateP = '20220421'\n",
    "filedateC = '20220422'"
   ]
  },
  {
   "cell_type": "code",
   "execution_count": 3,
   "id": "fc777917",
   "metadata": {},
   "outputs": [],
   "source": [
    "# 前日分データ\n",
    "df_p = pd.read_csv('data/inputAI_' + filedateP + '.csv', index_col=0, header=[0], parse_dates=[0])"
   ]
  },
  {
   "cell_type": "code",
   "execution_count": 4,
   "id": "cb2e22c5",
   "metadata": {},
   "outputs": [],
   "source": [
    "# 当日分データ\n",
    "df_c = pd.read_csv('data/inputAI_' + filedateC + '.csv', index_col=0, header=[0], parse_dates=[0])"
   ]
  },
  {
   "cell_type": "code",
   "execution_count": 5,
   "id": "b9331ac2",
   "metadata": {},
   "outputs": [],
   "source": [
    "# DataFrameをIndexでマージ\n",
    "df_t2 = pd.merge(df_p, df_c, left_index=True, right_index=True, how='inner')"
   ]
  },
  {
   "cell_type": "code",
   "execution_count": 6,
   "id": "6ce9008f",
   "metadata": {},
   "outputs": [],
   "source": [
    "# これまでにストックしたAIACデータ(前日まで)\n",
    "df_t1 = pd.read_csv('data/inputAIAC_' + filedateP + '.csv', index_col=0, header=[0], parse_dates=[0])"
   ]
  },
  {
   "cell_type": "code",
   "execution_count": 7,
   "id": "4cc07862",
   "metadata": {},
   "outputs": [],
   "source": [
    "# 上記データをコンカチ\n",
    "# df_inputAI = pd.concat([df_t1, df_t2, df_t3, df_t4, df_t5, df_t6])\n",
    "df_inputAI = pd.concat([df_t1, df_t2])"
   ]
  },
  {
   "cell_type": "code",
   "execution_count": 8,
   "id": "bae06851",
   "metadata": {},
   "outputs": [
    {
     "data": {
      "text/plain": [
       "PER_x       False\n",
       "PBR_x       False\n",
       "HAITO_x     False\n",
       "ROE_x_x     False\n",
       "ROA_x_x     False\n",
       "            ...  \n",
       "剰余金の配当_y    False\n",
       "自社株買い_y     False\n",
       "配当性向_y      False\n",
       "総還元性向_y     False\n",
       "純資産配当率_y    False\n",
       "Length: 206, dtype: bool"
      ]
     },
     "execution_count": 8,
     "metadata": {},
     "output_type": "execute_result"
    }
   ],
   "source": [
    "# データチェック\n",
    "df_inputAI.isnull().any()"
   ]
  },
  {
   "cell_type": "code",
   "execution_count": 9,
   "id": "67fec271",
   "metadata": {},
   "outputs": [],
   "source": [
    "df_inputAI.to_csv('data/inputAIAC_' + filedateC + '.csv')"
   ]
  },
  {
   "cell_type": "code",
   "execution_count": null,
   "id": "1f0cdd7f",
   "metadata": {},
   "outputs": [],
   "source": []
  },
  {
   "cell_type": "code",
   "execution_count": null,
   "id": "c64260aa",
   "metadata": {},
   "outputs": [],
   "source": []
  }
 ],
 "metadata": {
  "kernelspec": {
   "display_name": "Python 3 (ipykernel)",
   "language": "python",
   "name": "python3"
  },
  "language_info": {
   "codemirror_mode": {
    "name": "ipython",
    "version": 3
   },
   "file_extension": ".py",
   "mimetype": "text/x-python",
   "name": "python",
   "nbconvert_exporter": "python",
   "pygments_lexer": "ipython3",
   "version": "3.9.7"
  }
 },
 "nbformat": 4,
 "nbformat_minor": 5
}
