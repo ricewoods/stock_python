{
 "cells": [
  {
   "cell_type": "code",
   "execution_count": 60,
   "id": "eb605da3",
   "metadata": {},
   "outputs": [],
   "source": [
    "# 実行は必ず20時以降、翌日の8時前に実施する\n",
    "import os\n",
    "import numpy as np\n",
    "import pandas as pd\n",
    "import datetime as dt\n",
    "from pandas_datareader import DataReader\n",
    "from pandas import Series, DataFrame"
   ]
  },
  {
   "cell_type": "code",
   "execution_count": 61,
   "id": "023802e7",
   "metadata": {},
   "outputs": [
    {
     "name": "stdout",
     "output_type": "stream",
     "text": [
      "C:\\Users\\ricew\\Documents\\Python Scripts\n"
     ]
    }
   ],
   "source": [
    "print(os.getcwd())"
   ]
  },
  {
   "cell_type": "code",
   "execution_count": 62,
   "id": "016d1a01",
   "metadata": {},
   "outputs": [],
   "source": [
    "today = dt.date.today()"
   ]
  },
  {
   "cell_type": "code",
   "execution_count": 64,
   "id": "d91b758a",
   "metadata": {},
   "outputs": [],
   "source": [
    "yesterday = today - dt.timedelta(days = 1)"
   ]
  },
  {
   "cell_type": "code",
   "execution_count": 70,
   "id": "f1e3c72a",
   "metadata": {},
   "outputs": [],
   "source": [
    "df_list = pd.read_csv('##_toshop&s.csv', index_col=[0], header=[0], parse_dates=[0])"
   ]
  },
  {
   "cell_type": "code",
   "execution_count": 71,
   "id": "c0263305",
   "metadata": {},
   "outputs": [],
   "source": [
    "df_list['key'] = df_list[\"コード\"].astype(str) + \".T\""
   ]
  },
  {
   "cell_type": "code",
   "execution_count": 72,
   "id": "56900fda",
   "metadata": {},
   "outputs": [],
   "source": [
    "end = dt.datetime.now() - dt.timedelta(days = 1)\n",
    "start = end - dt.timedelta(days = 30)"
   ]
  },
  {
   "cell_type": "code",
   "execution_count": 73,
   "id": "7479799f",
   "metadata": {},
   "outputs": [],
   "source": [
    "df_stock = DataReader(df_list['key'].values, 'yahoo', start, end)"
   ]
  },
  {
   "cell_type": "code",
   "execution_count": 116,
   "id": "dbf0dd97",
   "metadata": {},
   "outputs": [],
   "source": [
    "df_stock.to_csv('stock_' + format(yesterday, '%Y%m%d') + '.csv')"
   ]
  },
  {
   "cell_type": "code",
   "execution_count": 117,
   "id": "e36dd43b",
   "metadata": {},
   "outputs": [
    {
     "name": "stdout",
     "output_type": "stream",
     "text": [
      "output stock\n"
     ]
    }
   ],
   "source": [
    "print(\"output stock\")"
   ]
  },
  {
   "cell_type": "code",
   "execution_count": null,
   "id": "dba963a8",
   "metadata": {},
   "outputs": [],
   "source": [
    "print(\"Start IDNR4\")"
   ]
  },
  {
   "cell_type": "code",
   "execution_count": 74,
   "id": "db1f1327",
   "metadata": {},
   "outputs": [],
   "source": [
    "df_idnr1 = df_stock.tail(4)"
   ]
  },
  {
   "cell_type": "code",
   "execution_count": 75,
   "id": "f9eb194c",
   "metadata": {},
   "outputs": [],
   "source": [
    "# 階層構造を逆にすることができます。今回は列方向で試します。\n",
    "df_idnr1 = df_idnr1.swaplevel('Attributes','Symbols',axis=1)"
   ]
  },
  {
   "cell_type": "code",
   "execution_count": 76,
   "id": "93c130ab",
   "metadata": {},
   "outputs": [],
   "source": [
    "df_idnr1.sort_values(by=['Symbols', 'Attributes'], axis=1, inplace=True)"
   ]
  },
  {
   "cell_type": "code",
   "execution_count": 77,
   "id": "a92ce5ac",
   "metadata": {},
   "outputs": [],
   "source": [
    "# マルチインデックスのカラム名を取得する\n",
    "list = df_idnr1.columns.get_level_values('Symbols')"
   ]
  },
  {
   "cell_type": "code",
   "execution_count": 78,
   "id": "cdcba02b",
   "metadata": {},
   "outputs": [],
   "source": [
    "# High-Lowの計算結果を新たな列として追加\n",
    "for i in list: \n",
    "    df_idnr1[i, 'diff'] = df_idnr1[i, 'High'] - df_idnr1[i, 'Low']"
   ]
  },
  {
   "cell_type": "code",
   "execution_count": 79,
   "id": "7360b568",
   "metadata": {},
   "outputs": [],
   "source": [
    "df_idnr1.sort_values(by=['Symbols', 'Attributes'], axis=1, inplace=True)"
   ]
  },
  {
   "cell_type": "code",
   "execution_count": 80,
   "id": "0593c645",
   "metadata": {},
   "outputs": [],
   "source": [
    "df_sel = df_idnr1.loc[:, (slice(None),'diff')].idxmin()"
   ]
  },
  {
   "cell_type": "code",
   "execution_count": 81,
   "id": "14bb2994",
   "metadata": {},
   "outputs": [],
   "source": [
    "# 高値と安値の幅が直近で最小になっている銘柄を抽出\n",
    "df_sel2 = df_sel.unstack(level=1)"
   ]
  },
  {
   "cell_type": "code",
   "execution_count": 82,
   "id": "b8158f04",
   "metadata": {},
   "outputs": [],
   "source": [
    "# 直近がファイル作成日付と一致する行を抽出\n",
    "df_sel3 = df_sel2['diff'].dt.date == yesterday"
   ]
  },
  {
   "cell_type": "code",
   "execution_count": 86,
   "id": "c3c322ad",
   "metadata": {},
   "outputs": [],
   "source": [
    "# indexを連番に振り直して元のインデックスは削除\n",
    "df_idnr2 = df_idnr1.tail(2).reset_index(drop=True)"
   ]
  },
  {
   "cell_type": "code",
   "execution_count": 87,
   "id": "56cff707",
   "metadata": {},
   "outputs": [],
   "source": [
    "df_idnr2 = df_idnr2.T"
   ]
  },
  {
   "cell_type": "code",
   "execution_count": 88,
   "id": "0e5e778d",
   "metadata": {},
   "outputs": [],
   "source": [
    "df_idnr2 = df_idnr2.pivot_table(index=['Symbols'], columns=['Attributes'])"
   ]
  },
  {
   "cell_type": "code",
   "execution_count": 89,
   "id": "2e01c1e9",
   "metadata": {},
   "outputs": [],
   "source": [
    "# 日付の比較Datetimeから日付のみを取得して比較\n",
    "df_idnr3 = df_idnr2[\n",
    "            (df_idnr2[(0, 'High')] > df_idnr2[(1, 'High')]) &\n",
    "            (df_idnr2[(0, 'Low')] < df_idnr2[(1, 'Low')])\n",
    "            ]"
   ]
  },
  {
   "cell_type": "code",
   "execution_count": 90,
   "id": "315bb042",
   "metadata": {},
   "outputs": [],
   "source": [
    "#　前日分の情報は削除\n",
    "df_idnr4 = df_idnr3.drop(0, axis=1)"
   ]
  },
  {
   "cell_type": "code",
   "execution_count": 91,
   "id": "a0f7a45f",
   "metadata": {},
   "outputs": [],
   "source": [
    "# 最上層の列を削除\n",
    "df_idnr4 = df_idnr4.droplevel(0, axis=1)"
   ]
  },
  {
   "cell_type": "code",
   "execution_count": 92,
   "id": "731a7cef",
   "metadata": {},
   "outputs": [
    {
     "name": "stderr",
     "output_type": "stream",
     "text": [
      "C:\\Users\\ricew\\AppData\\Local\\Temp/ipykernel_41916/1337780265.py:1: UserWarning: Boolean Series key will be reindexed to match DataFrame index.\n",
      "  df_idnr5 = df_idnr4[df_sel3]\n"
     ]
    }
   ],
   "source": [
    "df_idnr5 = df_idnr4[df_sel3]"
   ]
  },
  {
   "cell_type": "code",
   "execution_count": 94,
   "id": "06628ac0",
   "metadata": {},
   "outputs": [],
   "source": [
    "df_idnr5.to_csv('idnr4_' + format(yesterday, '%Y%m%d') + '.csv')"
   ]
  },
  {
   "cell_type": "code",
   "execution_count": 95,
   "id": "994b69d0",
   "metadata": {},
   "outputs": [
    {
     "name": "stdout",
     "output_type": "stream",
     "text": [
      "output idnr4\n"
     ]
    }
   ],
   "source": [
    "print(\"output idnr4\")"
   ]
  },
  {
   "cell_type": "code",
   "execution_count": null,
   "id": "4afcd59e",
   "metadata": {},
   "outputs": [],
   "source": [
    "print(\"Start Turtle\")"
   ]
  },
  {
   "cell_type": "code",
   "execution_count": 93,
   "id": "d7138ca3",
   "metadata": {},
   "outputs": [],
   "source": [
    "# end = dt.datetime.now()\n",
    "difdate = start"
   ]
  },
  {
   "cell_type": "code",
   "execution_count": 97,
   "id": "817df681",
   "metadata": {},
   "outputs": [],
   "source": [
    "# 銘柄ごとの上位3番の金額を取得する＜最安値＞\n",
    "def getmax(series, topnum=3, getmin=True, getindex=False):\n",
    "  if getindex is False:\n",
    "    series = series.sort_values(ascending=getmin).head(topnum).reset_index(drop=True)\n",
    "    series.index += 1\n",
    "    return series\n",
    "  else:\n",
    "    return series.sort_values(ascending=getmin).head(topnum).index\n",
    "\n",
    "df_min_price1 = df_stock.apply(getmax, axis=0, topnum=3, getindex = False)\n",
    "\n",
    "# 'Low'と'Adj Close'だけ残して他は削除 , 'Close', 'Open', 'Volume'),level=1, inplace=True\n",
    "df_min_price1.drop(columns=['Close', 'Open', 'High', 'Volume'], inplace=True)\n",
    "\n",
    "# indexの順番を入れ替えて、ソート\n",
    "df_min_price1 = df_min_price1.swaplevel('Attributes','Symbols', axis=1)\n",
    "df_min_price1.sort_values(by=['Symbols', 'Attributes'], axis=1, inplace=True)\n",
    "\n",
    "# 終値は最安値を抽出\n",
    "df_aclose = df_min_price1.loc[1, (slice(None), 'Adj Close')]\n",
    "\n",
    "# SeriesをDataFrameに変換。その際にMaltiIndexのSymbolsをIndexに設定\n",
    "df_aclose = df_aclose.unstack(level=1)\n",
    "\n",
    "# 安値は2番めに安い金額を抽出（終値が最大の場合、その日の安値も最大であるため）\n",
    "df_low = df_min_price1.loc[2, (slice(None), 'Low')]\n",
    "df_low = df_low.unstack(level=1)\n",
    "\n",
    "# DataFrameをIndexでマージ\n",
    "df_min_price2 = pd.merge(df_aclose, df_low, left_index=True, right_index=True)\n",
    "\n",
    "# 銘柄ごとの上位3番の日付を取得する＜最安値＞\n",
    "def getmax(series, topnum=3, getmin=True, getindex=False):\n",
    "  if getindex is False:\n",
    "    series = series.sort_values(ascending=getmin).head(topnum).reset_index(drop=True)\n",
    "    series.index += 1\n",
    "    return series\n",
    "  else:\n",
    "    return series.sort_values(ascending=getmin).head(topnum).index\n",
    "\n",
    "df_min_date1 = df_stock.apply(getmax, axis=0, topnum=3, getindex = True)\n",
    "\n",
    "# 'High'と'Adj Close'だけ残して他は削除 , 'Close', 'Open', 'Volume'),level=1, inplace=True\n",
    "df_min_date1.drop(columns=['Close', 'Open', 'High', 'Volume'], inplace=True)\n",
    "\n",
    "# indexの順番を入れ替えて、ソート\n",
    "df_min_date1 = df_min_date1.swaplevel('Attributes','Symbols', axis=1)\n",
    "df_min_date1.sort_values(by=['Symbols', 'Attributes'], axis=1, inplace=True)\n",
    "\n",
    "# 終値は最高値を出した日を抽出\n",
    "df_aclose_d = df_min_date1.loc[0, (slice(None), 'Adj Close')]\n",
    "\n",
    "# SeriesをDataFrameに変換。その際にMaltiIndexのSymbolsをIndexに設定\n",
    "df_aclose_d = df_aclose_d.unstack(level=1)\n",
    "\n",
    "# 安値は2番めに安い金額を出した日を抽出（終値が最小の場合、その日の安値も最小であるため）\n",
    "df_low_d = df_min_date1.loc[1, (slice(None), 'Low')]\n",
    "df_low_d = df_low_d.unstack(level=1)\n",
    "\n",
    "# DataFrameをIndexでマージ\n",
    "df_min_date2 = pd.merge(df_aclose_d, df_low_d, left_index=True, right_index=True)\n",
    "\n",
    "# 列名を置換\n",
    "df_min_date2.rename(columns = {'Adj Close':'Adjdate', 'Low':'Lowdate'}, inplace=True)\n",
    "\n",
    "df_min_analysis = pd.merge(df_min_price2, df_min_date2, left_index=True, right_index=True)\n",
    "\n",
    "# 日付の比較Datetimeから日付のみを取得して比較\n",
    "# todayadj = end - dt.timedelta(days = 4)\n",
    "df_min_analysis =df_min_analysis[(df_min_analysis['Adjdate'].dt.date == pd.to_datetime(format(yesterday, '%Y%m%d')).date()) &\n",
    "                 (df_min_analysis['Adj Close'] - df_min_analysis['Low'] < 0) &\n",
    "                (abs(df_min_analysis['Adjdate'] - df_min_analysis['Lowdate']) >= dt.timedelta(days=3))\n",
    "                 ]\n",
    "\n",
    "df_min_analysis.to_csv('tsplus_min_' + format(yesterday, '%Y%m%d') + '.csv')"
   ]
  },
  {
   "cell_type": "code",
   "execution_count": null,
   "id": "531368b3",
   "metadata": {},
   "outputs": [],
   "source": [
    "print(\"output tsplus_min\")"
   ]
  },
  {
   "cell_type": "code",
   "execution_count": 98,
   "id": "cbb883e9",
   "metadata": {},
   "outputs": [],
   "source": [
    "# 銘柄ごとの上位3番の金額を取得する＜最高値＞\n",
    "def getmax(series, topnum=3, getmin=False, getindex=False):\n",
    "  if getindex is False:\n",
    "    series = series.sort_values(ascending=getmin).head(topnum).reset_index(drop=True)\n",
    "    series.index += 1\n",
    "    return series\n",
    "  else:\n",
    "    return series.sort_values(ascending=getmin).head(topnum).index\n",
    "\n",
    "df_max_price1 = df_stock.apply(getmax, axis=0, topnum=3, getindex = False)\n",
    "\n",
    "# 'High'と'Adj Close'だけ残して他は削除 , 'Close', 'Open', 'Volume'),level=1, inplace=True\n",
    "df_max_price1.drop(columns=['Close', 'Open', 'Low', 'Volume'], inplace=True)\n",
    "\n",
    "# indexの順番を入れ替えて、ソート\n",
    "df_max_price1 = df_max_price1.swaplevel('Attributes','Symbols', axis=1)\n",
    "df_max_price1.sort_values(by=['Symbols', 'Attributes'], axis=1, inplace=True)\n",
    "\n",
    "# 終値は最高値を抽出\n",
    "df_aclose = df_max_price1.loc[1, (slice(None), 'Adj Close')]\n",
    "\n",
    "# SeriesをDataFrameに変換。その際にMaltiIndexのSymbolsをIndexに設定\n",
    "df_aclose = df_aclose.unstack(level=1)\n",
    "\n",
    "# 高値は2番めに高い金額を抽出（終値が最大の場合、その日の高値も最大であるため）\n",
    "df_high = df_max_price1.loc[2, (slice(None), 'High')]\n",
    "df_high = df_high.unstack(level=1)\n",
    "\n",
    "# DataFrameをIndexでマージ\n",
    "df_max_price2 = pd.merge(df_aclose, df_high, left_index=True, right_index=True)\n",
    "\n",
    "# 銘柄ごとの上位3番の日付を取得する＜最高値＞\n",
    "def getmax(series, topnum=3, getmin=False, getindex=False):\n",
    "  if getindex is False:\n",
    "    series = series.sort_values(ascending=getmin).head(topnum).reset_index(drop=True)\n",
    "    series.index += 1\n",
    "    return series\n",
    "  else:\n",
    "    return series.sort_values(ascending=getmin).head(topnum).index\n",
    "\n",
    "df_max_date1 = df_stock.apply(getmax, axis=0, topnum=3, getindex = True)\n",
    "\n",
    "# 'High'と'Adj Close'だけ残して他は削除 , 'Close', 'Open', 'Volume'),level=1, inplace=True\n",
    "df_max_date1.drop(columns=['Close', 'Open', 'Low', 'Volume'], inplace=True)\n",
    "\n",
    "# indexの順番を入れ替えて、ソート\n",
    "df_max_date1 = df_max_date1.swaplevel('Attributes','Symbols', axis=1)\n",
    "df_max_date1.sort_values(by=['Symbols', 'Attributes'], axis=1, inplace=True)\n",
    "\n",
    "# 終値は最高値を出した日を抽出\n",
    "df_aclose_d = df_max_date1.loc[0, (slice(None), 'Adj Close')]\n",
    "\n",
    "# SeriesをDataFrameに変換。その際にMaltiIndexのSymbolsをIndexに設定\n",
    "df_aclose_d = df_aclose_d.unstack(level=1)\n",
    "\n",
    "# 高値は2番めに高い金額を出した日を抽出（終値が最大の場合、その日の高値も最大であるため）\n",
    "df_high_d = df_max_date1.loc[1, (slice(None), 'High')]\n",
    "df_high_d = df_high_d.unstack(level=1)\n",
    "\n",
    "# DataFrameをIndexでマージ\n",
    "df_max_date2 = pd.merge(df_aclose_d, df_high_d, left_index=True, right_index=True)\n",
    "\n",
    "# 列名を置換\n",
    "df_max_date2.rename(columns = {'Adj Close':'Adjdate', 'High':'Highdate'}, inplace=True)\n",
    "\n",
    "df_max_analysis = pd.merge(df_max_price2, df_max_date2, left_index=True, right_index=True)\n",
    "\n",
    "# 日付の比較Datetimeから日付のみを取得して比較\n",
    "# todayadj = end - dt.timedelta(days = 4)\n",
    "df_max_analysis =df_max_analysis[(df_max_analysis['Adjdate'].dt.date == pd.to_datetime(format(yesterday, '%Y%m%d')).date()) &\n",
    "                 (df_max_analysis['Adj Close'] - df_max_analysis['High'] > 0) &\n",
    "                (abs(df_max_analysis['Adjdate'] - df_max_analysis['Highdate']) >= dt.timedelta(days=3))\n",
    "                 ]\n",
    "\n",
    "df_max_analysis.to_csv('tsplus_max_' + format(yesterday, '%Y%m%d') + '.csv')"
   ]
  },
  {
   "cell_type": "code",
   "execution_count": 99,
   "id": "77d95781",
   "metadata": {},
   "outputs": [
    {
     "name": "stdout",
     "output_type": "stream",
     "text": [
      "output tsplus_max\n"
     ]
    }
   ],
   "source": [
    "print(\"output tsplus_max\")"
   ]
  },
  {
   "cell_type": "code",
   "execution_count": 100,
   "id": "28deac54",
   "metadata": {},
   "outputs": [
    {
     "name": "stdout",
     "output_type": "stream",
     "text": [
      "Start 80-20S\n"
     ]
    }
   ],
   "source": [
    "print(\"Start 80-20S\")"
   ]
  },
  {
   "cell_type": "code",
   "execution_count": 101,
   "id": "b89d2a4b",
   "metadata": {},
   "outputs": [],
   "source": [
    "# 階層構造を逆にすることができます。今回は列方向で試します。\n",
    "df_stock2 = df_stock.swaplevel('Attributes','Symbols',axis=1)"
   ]
  },
  {
   "cell_type": "code",
   "execution_count": 102,
   "id": "51db7224",
   "metadata": {},
   "outputs": [],
   "source": [
    "df_stock2.sort_values(by=['Symbols', 'Attributes'], axis=1, inplace=True)"
   ]
  },
  {
   "cell_type": "code",
   "execution_count": 103,
   "id": "4c37733f",
   "metadata": {},
   "outputs": [],
   "source": [
    "# マルチインデックスのカラム名を取得する\n",
    "list = df_stock2.columns.get_level_values('Symbols')"
   ]
  },
  {
   "cell_type": "code",
   "execution_count": 104,
   "id": "6597b376",
   "metadata": {},
   "outputs": [],
   "source": [
    "# RSIの計算\n",
    "def rsi(df):\n",
    "    # 前日との差分を計算\n",
    "    df_diff = df[i,\"Close\"].diff(1)\n",
    "\n",
    "    # 計算用のDataFrameを定義\n",
    "    df_up, df_down = df_diff.copy(), df_diff.copy()\n",
    "    \n",
    "    # df_upはマイナス値を0に変換\n",
    "    # df_downはプラス値を0に変換して正負反転\n",
    "    df_up[df_up < 0] = 0\n",
    "    df_down[df_down > 0] = 0\n",
    "    df_down = df_down * -1\n",
    "    \n",
    "    # 期間03でそれぞれの平均を算出\n",
    "    df_up_sma03 = df_up.rolling(window=3, center=False).mean()\n",
    "    df_down_sma03 = df_down.rolling(window=3, center=False).mean()\n",
    "\n",
    "    # RSIを算出\n",
    "    df[i, \"RSI\"] = 100.0 * (df_up_sma03 / (df_up_sma03 + df_down_sma03))\n",
    "\n",
    "    return df\n",
    "\n",
    "for i in list: \n",
    "    df_stock2 = rsi(df_stock2)"
   ]
  },
  {
   "cell_type": "code",
   "execution_count": 105,
   "id": "9cadcd07",
   "metadata": {},
   "outputs": [],
   "source": [
    "# High-Lowの計算結果を新たな列として追加\n",
    "for i in list: \n",
    "    df_stock2[i, 'diff'] = df_stock2[i, 'High'] - df_stock2[i, 'Low']\n",
    "    df_stock2[i, 'eighty'] = df_stock2[i, 'High'] - df_stock2[i, 'diff'] * 0.2\n",
    "    df_stock2[i, 'twenty'] = df_stock2[i, 'Low'] + df_stock2[i, 'diff'] * 0.2\n",
    "    df_stock2[i, 'RSI_diff'] = df_stock2[i,\"RSI\"].diff(1)"
   ]
  },
  {
   "cell_type": "code",
   "execution_count": 106,
   "id": "bf392bb7",
   "metadata": {},
   "outputs": [],
   "source": [
    "df_stock2.sort_values(by=['Symbols', 'Attributes'], axis=1, inplace=True)"
   ]
  },
  {
   "cell_type": "code",
   "execution_count": 107,
   "id": "87a66010",
   "metadata": {},
   "outputs": [],
   "source": [
    "# 日付の比較Datetimeから最後の日のみを取得\n",
    "df_stock3 = df_stock2.tail(1)"
   ]
  },
  {
   "cell_type": "code",
   "execution_count": 108,
   "id": "c0e4cf28",
   "metadata": {},
   "outputs": [],
   "source": [
    "df_stock3 = df_stock3.T"
   ]
  },
  {
   "cell_type": "code",
   "execution_count": 109,
   "id": "3fea8e02",
   "metadata": {},
   "outputs": [],
   "source": [
    "df_stock3 = df_stock3.pivot_table(index=['Symbols'], columns=['Attributes'])"
   ]
  },
  {
   "cell_type": "code",
   "execution_count": 110,
   "id": "4826efa6",
   "metadata": {},
   "outputs": [],
   "source": [
    "df_stock3 = df_stock3.droplevel(0, axis=1)"
   ]
  },
  {
   "cell_type": "code",
   "execution_count": 111,
   "id": "05c74ff1",
   "metadata": {},
   "outputs": [],
   "source": [
    "# 日付の比較Datetimeから日付のみを取得して比較\n",
    "df_stock4 = df_stock3[(df_stock3['RSI'] < 30) &\n",
    "                 (df_stock3['Open'] >= df_stock3['eighty']) &\n",
    "                 (df_stock3['Close'] <= df_stock3['twenty'])\n",
    "                 ]"
   ]
  },
  {
   "cell_type": "code",
   "execution_count": 112,
   "id": "ef091550",
   "metadata": {},
   "outputs": [],
   "source": [
    "# 日付の比較Datetimeから日付のみを取得して比較\n",
    "df_stock5 = df_stock3[(df_stock3['RSI'] > 70) &\n",
    "                 (df_stock3['Close'] >= df_stock3['eighty']) &\n",
    "                 (df_stock3['Open'] <= df_stock3['twenty'])\n",
    "                 ]"
   ]
  },
  {
   "cell_type": "code",
   "execution_count": 118,
   "id": "49ab848d",
   "metadata": {},
   "outputs": [],
   "source": [
    "df_stock4.to_csv('pin_80_20_買い_' + format(yesterday, '%Y%m%d') + '.csv')"
   ]
  },
  {
   "cell_type": "code",
   "execution_count": 119,
   "id": "1d8bef9b",
   "metadata": {},
   "outputs": [],
   "source": [
    "df_stock5.to_csv('pin_80_20_売り_' + format(yesterday, '%Y%m%d') + '.csv')"
   ]
  },
  {
   "cell_type": "code",
   "execution_count": 120,
   "id": "69f2b077",
   "metadata": {},
   "outputs": [
    {
     "name": "stdout",
     "output_type": "stream",
     "text": [
      "output pin_80_20\n"
     ]
    }
   ],
   "source": [
    "print(\"output pin_80_20\")"
   ]
  },
  {
   "cell_type": "code",
   "execution_count": 121,
   "id": "5d9d2cd0",
   "metadata": {},
   "outputs": [],
   "source": [
    "# 行にNaNデータがある銘柄をリスト化（後で再取得を計る）\n",
    "df_nanlist = df_stock[df_stock.isnull().any(axis=1)]"
   ]
  },
  {
   "cell_type": "code",
   "execution_count": 123,
   "id": "0bb94be7",
   "metadata": {},
   "outputs": [],
   "source": [
    "df_nanlist.to_csv('nanlist_' + format(yesterday, '%Y%m%d') + '.csv')"
   ]
  },
  {
   "cell_type": "code",
   "execution_count": null,
   "id": "283a00d7",
   "metadata": {},
   "outputs": [],
   "source": []
  }
 ],
 "metadata": {
  "kernelspec": {
   "display_name": "Python 3 (ipykernel)",
   "language": "python",
   "name": "python3"
  },
  "language_info": {
   "codemirror_mode": {
    "name": "ipython",
    "version": 3
   },
   "file_extension": ".py",
   "mimetype": "text/x-python",
   "name": "python",
   "nbconvert_exporter": "python",
   "pygments_lexer": "ipython3",
   "version": "3.9.7"
  }
 },
 "nbformat": 4,
 "nbformat_minor": 5
}
