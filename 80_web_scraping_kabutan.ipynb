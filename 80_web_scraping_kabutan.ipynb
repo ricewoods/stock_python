{
 "cells": [
  {
   "cell_type": "code",
   "execution_count": 4,
   "id": "4a460902",
   "metadata": {},
   "outputs": [],
   "source": [
    "import traceback\n",
    "from selenium import webdriver\n",
    "from selenium.webdriver.chrome.options import Options\n",
    "import time"
   ]
  },
  {
   "cell_type": "code",
   "execution_count": 5,
   "id": "86cf71ca",
   "metadata": {},
   "outputs": [],
   "source": [
    "url = 'https://jp.kabumap.com/servlets/kabumap/Action?SRC=stockRanking/base&ind=pbr&exch=T1&d=a'"
   ]
  },
  {
   "cell_type": "code",
   "execution_count": 8,
   "id": "f3e28d1a",
   "metadata": {},
   "outputs": [],
   "source": [
    "driver = webdriver.Chrome(\"/Users/ricew/anaconda3/pkgs/chromedriver-binary-2.38-0/Library/bin/chromedriver\")"
   ]
  },
  {
   "cell_type": "code",
   "execution_count": 19,
   "id": "36b7c4d2",
   "metadata": {},
   "outputs": [],
   "source": [
    "driver.get(url)\n",
    "time.sleep(3)"
   ]
  },
  {
   "cell_type": "code",
   "execution_count": 20,
   "id": "c7fe6ef3",
   "metadata": {},
   "outputs": [],
   "source": [
    "values = []"
   ]
  },
  {
   "cell_type": "code",
   "execution_count": 22,
   "id": "714e3570",
   "metadata": {},
   "outputs": [],
   "source": [
    "while True:\n",
    "    value = driver.find_element_by_class_name(\"KM_TABLECONTENT\")\n",
    "    values.append(str(value.text))\n",
    "    try:\n",
    "        next_button = driver.find_element_by_class_name(\"KM_TABLEINDEXNEXT\")\n",
    "        next_button.click()\n",
    "        time.sleep(3)\n",
    "    except Exception:\n",
    "        break"
   ]
  },
  {
   "cell_type": "code",
   "execution_count": 23,
   "id": "95359e5f",
   "metadata": {},
   "outputs": [
    {
     "name": "stdout",
     "output_type": "stream",
     "text": [
      "10\n"
     ]
    }
   ],
   "source": [
    "# プラウザを閉じる\n",
    "driver.quit()\n",
    "        \n",
    "print(len(values))"
   ]
  },
  {
   "cell_type": "code",
   "execution_count": null,
   "id": "0d5a7597",
   "metadata": {},
   "outputs": [],
   "source": []
  }
 ],
 "metadata": {
  "kernelspec": {
   "display_name": "Python 3 (ipykernel)",
   "language": "python",
   "name": "python3"
  },
  "language_info": {
   "codemirror_mode": {
    "name": "ipython",
    "version": 3
   },
   "file_extension": ".py",
   "mimetype": "text/x-python",
   "name": "python",
   "nbconvert_exporter": "python",
   "pygments_lexer": "ipython3",
   "version": "3.9.7"
  }
 },
 "nbformat": 4,
 "nbformat_minor": 5
}
