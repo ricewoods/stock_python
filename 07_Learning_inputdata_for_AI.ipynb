{
 "cells": [
  {
   "cell_type": "code",
   "execution_count": 1,
   "id": "bb2cc550",
   "metadata": {},
   "outputs": [],
   "source": [
    "import numpy as np\n",
    "import pandas as pd\n",
    "import datetime as dt\n",
    "from pandas_datareader import DataReader\n",
    "from pandas import Series, DataFrame"
   ]
  },
  {
   "cell_type": "code",
   "execution_count": 2,
   "id": "abfe992e",
   "metadata": {},
   "outputs": [],
   "source": [
    "# 予想したい日の前日\n",
    "filedate = '20220415'\n",
    "# 機械学習累積データ作成日\n",
    "filedateAC = '20220415'"
   ]
  },
  {
   "cell_type": "code",
   "execution_count": 3,
   "id": "b0b92e11",
   "metadata": {},
   "outputs": [],
   "source": [
    "# 予想のために作成したinputデータ（予想したい日の前日）\n",
    "df_inputai_c = pd.read_csv('data/inputAI_' + filedate + '.csv', index_col=0, header=[0], parse_dates=[0])"
   ]
  },
  {
   "cell_type": "code",
   "execution_count": 4,
   "id": "ef418ea8",
   "metadata": {},
   "outputs": [],
   "source": [
    "# 事前に作成した機械学習用データ（機械学習累積データ作成日）\n",
    "df_target = pd.read_csv('data/inputAIAC_' + filedateAC + '.csv', index_col=0, header=[0], parse_dates=[0])"
   ]
  },
  {
   "cell_type": "code",
   "execution_count": 5,
   "id": "39b8f690",
   "metadata": {},
   "outputs": [],
   "source": [
    "# ここからscikit-learn用のデータクラスを持つオブジェクトを作る\n",
    "import sklearn"
   ]
  },
  {
   "cell_type": "code",
   "execution_count": 6,
   "id": "9384c3c0",
   "metadata": {},
   "outputs": [],
   "source": [
    "stockanalysis = sklearn.utils.Bunch()"
   ]
  },
  {
   "cell_type": "code",
   "execution_count": 7,
   "id": "f7f79dd6",
   "metadata": {},
   "outputs": [],
   "source": [
    "# Key_xを削除\n",
    "df_target = df_target.drop('key_x', axis=1)"
   ]
  },
  {
   "cell_type": "code",
   "execution_count": 8,
   "id": "8f085e00",
   "metadata": {},
   "outputs": [],
   "source": [
    "# 当日の前日比'Diff'を目的変数\"target\"とする\n",
    "stockanalysis['target'] = df_target['Diff_y']"
   ]
  },
  {
   "cell_type": "code",
   "execution_count": 9,
   "id": "9d9dd1b5",
   "metadata": {},
   "outputs": [],
   "source": [
    "# 説明変数を\"data\"に入れる\n",
    "stockanalysis['data'] = df_target.iloc[:, 0:102]"
   ]
  },
  {
   "cell_type": "code",
   "execution_count": 10,
   "id": "579f1e8a",
   "metadata": {},
   "outputs": [],
   "source": [
    "# 特徴量の名前も入れておく\n",
    "# stockanalysis['feature_names'] = ['PER', 'PBR', 'HAITO',\n",
    "#                                  'ROE', 'ROA', 'MA05',\n",
    "#                                  'MA25', 'MA75', 'RSI',\n",
    "#                                  'AdjClose', 'Close', 'High',            \n",
    "#                                  'Low', 'Open', 'Volume',           \n",
    "#                                  'INDR4', 'TSPLB', 'TSPLS',\n",
    "#                                  'PIN80B', 'PIN80S', 'Diff']"
   ]
  },
  {
   "cell_type": "code",
   "execution_count": 11,
   "id": "4591c42f",
   "metadata": {},
   "outputs": [],
   "source": [
    "# 訓練セットとテストセットに分割\n",
    "from sklearn.model_selection import train_test_split\n",
    "X_train, X_test, Y_train, Y_test = train_test_split(\n",
    "stockanalysis['data'], stockanalysis['target'], random_state=0)"
   ]
  },
  {
   "cell_type": "code",
   "execution_count": 12,
   "id": "cf8a8c6b",
   "metadata": {},
   "outputs": [
    {
     "name": "stdout",
     "output_type": "stream",
     "text": [
      "(41275, 102) (13759, 102) (41275,) (13759,)\n"
     ]
    }
   ],
   "source": [
    "# データ読み込み完了\n",
    "print(X_train.shape, X_test.shape, Y_train.shape, Y_test.shape)"
   ]
  },
  {
   "cell_type": "code",
   "execution_count": 13,
   "id": "b15bfeab",
   "metadata": {},
   "outputs": [],
   "source": [
    "from sklearn.linear_model import LinearRegression"
   ]
  },
  {
   "cell_type": "code",
   "execution_count": 14,
   "id": "791d183b",
   "metadata": {},
   "outputs": [],
   "source": [
    "lreg = LinearRegression()"
   ]
  },
  {
   "cell_type": "code",
   "execution_count": 15,
   "id": "a6ee213a",
   "metadata": {},
   "outputs": [
    {
     "data": {
      "text/plain": [
       "LinearRegression()"
      ]
     },
     "execution_count": 15,
     "metadata": {},
     "output_type": "execute_result"
    }
   ],
   "source": [
    "# fitでモデルを作りますが、使うのは学習用のデータだけです。\n",
    "lreg.fit(X_train, Y_train)"
   ]
  },
  {
   "cell_type": "code",
   "execution_count": 16,
   "id": "4e2a0a6e",
   "metadata": {},
   "outputs": [
    {
     "name": "stdout",
     "output_type": "stream",
     "text": [
      "[ 9.41587167e-07 -7.04814247e-05 -3.30323766e-04  1.07221109e-05\n",
      "  1.14159880e-04  1.25939221e-03 -2.91426210e-04 -6.09260150e-05\n",
      " -9.82511715e-05 -1.56354592e-04  1.16585723e-04  1.86252401e-05\n",
      "  3.56785414e-05 -2.02261261e-05 -3.65902691e-10  3.49809707e-04\n",
      " -3.66431415e-04  1.70892066e-05  3.53723318e-05 -4.86714489e-05\n",
      "  5.71352933e-10 -2.43343989e-04  2.79467351e-04 -1.12206855e-05\n",
      " -2.24340687e-05  2.47078809e-05 -1.46936384e-10 -1.08282675e-04\n",
      "  9.87889443e-05  9.92883621e-06 -2.55071264e-06 -4.27199806e-06\n",
      "  2.79211085e-10 -2.99523037e-05  2.21994618e-05  2.23665747e-06\n",
      "  2.15426103e-06  1.75757946e-05 -6.87322388e-10 -1.45245222e-04\n",
      "  9.06184652e-05  1.57728715e-05  3.62957674e-05 -2.46369969e-05\n",
      "  7.93558789e-11  2.77334696e-05 -3.76255026e-05  3.21299015e-05\n",
      "  2.44257491e-05 -2.37509781e-05 -2.07348565e-11 -6.22368717e-05\n",
      "  7.27012185e-05  1.10499987e-05 -2.43372504e-05 -1.04711532e-05\n",
      " -2.11767379e-10  7.74390295e-04 -7.96775601e-04  1.63652355e-05\n",
      "  1.13387093e-06  1.59658040e-05  3.04487595e-10 -5.21436211e-04\n",
      "  4.91304458e-04  1.93013748e-05  1.79513470e-06 -1.63183344e-06\n",
      "  4.06754897e-10  2.96032209e-03 -8.79230285e-03  7.26750429e-04\n",
      "  9.37653357e-05 -1.54817007e-03 -1.46140892e-02  1.26011397e-16\n",
      " -3.28621678e-16 -3.94974851e-16 -2.95805589e-15  4.71275579e-15\n",
      "  1.02012582e-15 -1.15498013e-08 -7.33385517e-06  6.33553539e-16\n",
      "  9.65807295e-16 -1.98988707e-15  3.56142457e-15 -3.61906685e-16\n",
      " -6.84926549e-07 -9.05417234e-16  3.84572203e-14 -3.22597038e-14\n",
      "  1.55691839e-14  1.33165810e-07 -3.11457423e-05 -3.62440595e-05\n",
      " -2.25198377e-09  7.65476312e-14 -2.80037461e-14 -1.00563901e-06\n",
      "  4.65235917e-07  3.75207447e-05]\n",
      "0.006123555400935141\n",
      "0.061224961802851086\n"
     ]
    }
   ],
   "source": [
    "# 回帰係数\n",
    "print(lreg.coef_)\n",
    "# 切片（誤差）\n",
    "print(lreg.intercept_)\n",
    "# 決定係数\n",
    "print(lreg.score(X_train, Y_train))"
   ]
  },
  {
   "cell_type": "code",
   "execution_count": 17,
   "id": "ccd67709",
   "metadata": {},
   "outputs": [],
   "source": [
    "# 予測を、学習用のデータと、テスト用のデータ、両方でやる。\n",
    "pred_train = lreg.predict(X_train)\n",
    "pred_test = lreg.predict(X_test)"
   ]
  },
  {
   "cell_type": "code",
   "execution_count": 18,
   "id": "434fd03f",
   "metadata": {},
   "outputs": [
    {
     "name": "stdout",
     "output_type": "stream",
     "text": [
      "X_trainを使ったモデルの平均二乗誤差＝4.70\n",
      "X_testを使ったモデルの平均二乗誤差＝14593.23\n"
     ]
    }
   ],
   "source": [
    "print('X_trainを使ったモデルの平均二乗誤差＝{:0.2f}'.format(np.mean(((Y_train - pred_train)*100) ** 2)))\n",
    "    \n",
    "print('X_testを使ったモデルの平均二乗誤差＝{:0.2f}'.format(np.mean(((Y_test - pred_test)*100) ** 2)))"
   ]
  },
  {
   "cell_type": "code",
   "execution_count": 19,
   "id": "098b192c",
   "metadata": {},
   "outputs": [],
   "source": [
    "import matplotlib.pyplot as plt\n",
    "import seaborn as sns\n",
    "sns.set_style('whitegrid')\n",
    "%matplotlib inline"
   ]
  },
  {
   "cell_type": "code",
   "execution_count": 20,
   "id": "526859f7",
   "metadata": {},
   "outputs": [
    {
     "data": {
      "text/plain": [
       "Text(0.5, 1.0, 'Residual Plots')"
      ]
     },
     "execution_count": 20,
     "metadata": {},
     "output_type": "execute_result"
    },
    {
     "data": {
      "image/png": "[encoded data removed]",
      "text/plain": [
       "<Figure size 432x288 with 1 Axes>"
      ]
     },
     "metadata": {
      "needs_background": "light"
     },
     "output_type": "display_data"
    }
   ],
   "source": [
    "# 学習用のデータの残差プロットです。\n",
    "train = plt.scatter(pred_train,(pred_train-Y_train),c='b',alpha=0.5)\n",
    "\n",
    "# テスト用のデータの残差プロットです。\n",
    "test = plt.scatter(pred_test,(pred_test-Y_test),c='r',alpha=0.5)\n",
    "\n",
    "# y=0の水平な線を描いておきます。\n",
    "plt.hlines(y=0,xmin=-0.3,xmax=0.3)\n",
    "\n",
    "plt.legend((train,test),('Training','Test'),loc='lower left')\n",
    "plt.title('Residual Plots')"
   ]
  },
  {
   "cell_type": "code",
   "execution_count": 21,
   "id": "048a801c",
   "metadata": {},
   "outputs": [],
   "source": [
    "# Key_xを削除\n",
    "df_analysis = df_inputai_c.drop('key', axis=1)"
   ]
  },
  {
   "cell_type": "code",
   "execution_count": 22,
   "id": "23a4abba",
   "metadata": {},
   "outputs": [
    {
     "data": {
      "text/plain": [
       "Index(['PER', 'PBR', 'HAITO', 'ROE_x', 'ROA_x', 'MA05', 'MA25', 'MA75', 'RSI',\n",
       "       'AdjClose_c',\n",
       "       ...\n",
       "       '純利益', 'EPS', 'ROE_y', 'ROA_y', '一株配当', '剰余金の配当', '自社株買い', '配当性向',\n",
       "       '総還元性向', '純資産配当率'],\n",
       "      dtype='object', length=102)"
      ]
     },
     "execution_count": 22,
     "metadata": {},
     "output_type": "execute_result"
    }
   ],
   "source": [
    "df_analysis.columns"
   ]
  },
  {
   "cell_type": "code",
   "execution_count": 23,
   "id": "4cd60ae8",
   "metadata": {},
   "outputs": [],
   "source": [
    "# 説明変数を\"data\"に入れる\n",
    "df_analysis = df_analysis.iloc[:, 0:102]"
   ]
  },
  {
   "cell_type": "code",
   "execution_count": 24,
   "id": "9fee4fc5",
   "metadata": {},
   "outputs": [],
   "source": [
    "# 翌日の株価予想\n",
    "pred_test = lreg.predict(df_analysis)"
   ]
  },
  {
   "cell_type": "code",
   "execution_count": 25,
   "id": "a618f856",
   "metadata": {},
   "outputs": [],
   "source": [
    "# 翌日の株価予想データ取得\n",
    "np.savetxt('data/predict_' + filedate + '.csv', pred_test)"
   ]
  },
  {
   "cell_type": "code",
   "execution_count": 26,
   "id": "e667b7c2",
   "metadata": {},
   "outputs": [
    {
     "data": {
      "text/html": [
       "<div>\n",
       "<style scoped>\n",
       "    .dataframe tbody tr th:only-of-type {\n",
       "        vertical-align: middle;\n",
       "    }\n",
       "\n",
       "    .dataframe tbody tr th {\n",
       "        vertical-align: top;\n",
       "    }\n",
       "\n",
       "    .dataframe thead th {\n",
       "        text-align: right;\n",
       "    }\n",
       "</style>\n",
       "<table border=\"1\" class=\"dataframe\">\n",
       "  <thead>\n",
       "    <tr style=\"text-align: right;\">\n",
       "      <th></th>\n",
       "      <th>PER</th>\n",
       "      <th>PBR</th>\n",
       "      <th>HAITO</th>\n",
       "      <th>ROE_x</th>\n",
       "      <th>ROA_x</th>\n",
       "      <th>MA05</th>\n",
       "      <th>MA25</th>\n",
       "      <th>MA75</th>\n",
       "      <th>RSI</th>\n",
       "      <th>AdjClose_c</th>\n",
       "      <th>...</th>\n",
       "      <th>純利益</th>\n",
       "      <th>EPS</th>\n",
       "      <th>ROE_y</th>\n",
       "      <th>ROA_y</th>\n",
       "      <th>一株配当</th>\n",
       "      <th>剰余金の配当</th>\n",
       "      <th>自社株買い</th>\n",
       "      <th>配当性向</th>\n",
       "      <th>総還元性向</th>\n",
       "      <th>純資産配当率</th>\n",
       "    </tr>\n",
       "    <tr>\n",
       "      <th>コード</th>\n",
       "      <th></th>\n",
       "      <th></th>\n",
       "      <th></th>\n",
       "      <th></th>\n",
       "      <th></th>\n",
       "      <th></th>\n",
       "      <th></th>\n",
       "      <th></th>\n",
       "      <th></th>\n",
       "      <th></th>\n",
       "      <th></th>\n",
       "      <th></th>\n",
       "      <th></th>\n",
       "      <th></th>\n",
       "      <th></th>\n",
       "      <th></th>\n",
       "      <th></th>\n",
       "      <th></th>\n",
       "      <th></th>\n",
       "      <th></th>\n",
       "      <th></th>\n",
       "    </tr>\n",
       "  </thead>\n",
       "  <tbody>\n",
       "    <tr>\n",
       "      <th>1301</th>\n",
       "      <td>9.06</td>\n",
       "      <td>0.86</td>\n",
       "      <td>2.47</td>\n",
       "      <td>10.5</td>\n",
       "      <td>4.3</td>\n",
       "      <td>-0.31</td>\n",
       "      <td>-3.54</td>\n",
       "      <td>0.29</td>\n",
       "      <td>25.66</td>\n",
       "      <td>3235.0</td>\n",
       "      <td>...</td>\n",
       "      <td>3.838000e+09</td>\n",
       "      <td>356.90</td>\n",
       "      <td>9.50</td>\n",
       "      <td>3.30</td>\n",
       "      <td>80.0</td>\n",
       "      <td>7.540000e+08</td>\n",
       "      <td>82000000.0</td>\n",
       "      <td>19.65</td>\n",
       "      <td>21.78</td>\n",
       "      <td>2.4</td>\n",
       "    </tr>\n",
       "    <tr>\n",
       "      <th>1352</th>\n",
       "      <td>12.76</td>\n",
       "      <td>1.46</td>\n",
       "      <td>1.64</td>\n",
       "      <td>12.0</td>\n",
       "      <td>2.9</td>\n",
       "      <td>-0.02</td>\n",
       "      <td>-0.11</td>\n",
       "      <td>21.62</td>\n",
       "      <td>40.00</td>\n",
       "      <td>1217.0</td>\n",
       "      <td>...</td>\n",
       "      <td>7.980000e+08</td>\n",
       "      <td>95.30</td>\n",
       "      <td>11.43</td>\n",
       "      <td>1.93</td>\n",
       "      <td>20.0</td>\n",
       "      <td>1.670000e+08</td>\n",
       "      <td>0.0</td>\n",
       "      <td>20.93</td>\n",
       "      <td>0.00</td>\n",
       "      <td>2.4</td>\n",
       "    </tr>\n",
       "    <tr>\n",
       "      <th>1376</th>\n",
       "      <td>12.84</td>\n",
       "      <td>0.85</td>\n",
       "      <td>1.83</td>\n",
       "      <td>6.8</td>\n",
       "      <td>3.7</td>\n",
       "      <td>-1.18</td>\n",
       "      <td>-1.69</td>\n",
       "      <td>2.39</td>\n",
       "      <td>47.72</td>\n",
       "      <td>1581.0</td>\n",
       "      <td>...</td>\n",
       "      <td>1.436066e+09</td>\n",
       "      <td>123.09</td>\n",
       "      <td>6.62</td>\n",
       "      <td>3.03</td>\n",
       "      <td>29.0</td>\n",
       "      <td>3.286890e+08</td>\n",
       "      <td>781000.0</td>\n",
       "      <td>22.89</td>\n",
       "      <td>22.94</td>\n",
       "      <td>1.6</td>\n",
       "    </tr>\n",
       "    <tr>\n",
       "      <th>1377</th>\n",
       "      <td>23.45</td>\n",
       "      <td>1.60</td>\n",
       "      <td>0.95</td>\n",
       "      <td>7.2</td>\n",
       "      <td>7.9</td>\n",
       "      <td>-1.59</td>\n",
       "      <td>6.56</td>\n",
       "      <td>15.17</td>\n",
       "      <td>62.07</td>\n",
       "      <td>4015.0</td>\n",
       "      <td>...</td>\n",
       "      <td>7.636000e+09</td>\n",
       "      <td>171.22</td>\n",
       "      <td>6.84</td>\n",
       "      <td>5.74</td>\n",
       "      <td>38.0</td>\n",
       "      <td>1.472000e+09</td>\n",
       "      <td>2000000.0</td>\n",
       "      <td>19.28</td>\n",
       "      <td>19.30</td>\n",
       "      <td>1.6</td>\n",
       "    </tr>\n",
       "    <tr>\n",
       "      <th>1379</th>\n",
       "      <td>15.30</td>\n",
       "      <td>1.15</td>\n",
       "      <td>3.04</td>\n",
       "      <td>7.7</td>\n",
       "      <td>6.5</td>\n",
       "      <td>-0.22</td>\n",
       "      <td>-0.07</td>\n",
       "      <td>0.92</td>\n",
       "      <td>46.36</td>\n",
       "      <td>1971.0</td>\n",
       "      <td>...</td>\n",
       "      <td>4.038000e+09</td>\n",
       "      <td>128.83</td>\n",
       "      <td>7.46</td>\n",
       "      <td>4.03</td>\n",
       "      <td>60.0</td>\n",
       "      <td>1.901000e+09</td>\n",
       "      <td>1000000.0</td>\n",
       "      <td>47.08</td>\n",
       "      <td>47.10</td>\n",
       "      <td>3.6</td>\n",
       "    </tr>\n",
       "    <tr>\n",
       "      <th>...</th>\n",
       "      <td>...</td>\n",
       "      <td>...</td>\n",
       "      <td>...</td>\n",
       "      <td>...</td>\n",
       "      <td>...</td>\n",
       "      <td>...</td>\n",
       "      <td>...</td>\n",
       "      <td>...</td>\n",
       "      <td>...</td>\n",
       "      <td>...</td>\n",
       "      <td>...</td>\n",
       "      <td>...</td>\n",
       "      <td>...</td>\n",
       "      <td>...</td>\n",
       "      <td>...</td>\n",
       "      <td>...</td>\n",
       "      <td>...</td>\n",
       "      <td>...</td>\n",
       "      <td>...</td>\n",
       "      <td>...</td>\n",
       "      <td>...</td>\n",
       "    </tr>\n",
       "    <tr>\n",
       "      <th>9987</th>\n",
       "      <td>42.48</td>\n",
       "      <td>0.80</td>\n",
       "      <td>1.91</td>\n",
       "      <td>1.9</td>\n",
       "      <td>1.6</td>\n",
       "      <td>0.48</td>\n",
       "      <td>0.78</td>\n",
       "      <td>5.48</td>\n",
       "      <td>49.01</td>\n",
       "      <td>3760.0</td>\n",
       "      <td>...</td>\n",
       "      <td>7.895000e+09</td>\n",
       "      <td>88.51</td>\n",
       "      <td>1.89</td>\n",
       "      <td>0.71</td>\n",
       "      <td>72.0</td>\n",
       "      <td>6.778000e+09</td>\n",
       "      <td>1000000.0</td>\n",
       "      <td>85.85</td>\n",
       "      <td>85.86</td>\n",
       "      <td>1.5</td>\n",
       "    </tr>\n",
       "    <tr>\n",
       "      <th>9989</th>\n",
       "      <td>13.77</td>\n",
       "      <td>1.70</td>\n",
       "      <td>2.35</td>\n",
       "      <td>12.9</td>\n",
       "      <td>12.9</td>\n",
       "      <td>-0.91</td>\n",
       "      <td>-1.82</td>\n",
       "      <td>-1.29</td>\n",
       "      <td>38.63</td>\n",
       "      <td>2984.0</td>\n",
       "      <td>...</td>\n",
       "      <td>2.532900e+10</td>\n",
       "      <td>216.67</td>\n",
       "      <td>12.35</td>\n",
       "      <td>8.21</td>\n",
       "      <td>70.0</td>\n",
       "      <td>8.066000e+09</td>\n",
       "      <td>0.0</td>\n",
       "      <td>31.84</td>\n",
       "      <td>31.84</td>\n",
       "      <td>4.2</td>\n",
       "    </tr>\n",
       "    <tr>\n",
       "      <th>9991</th>\n",
       "      <td>6.30</td>\n",
       "      <td>0.48</td>\n",
       "      <td>4.45</td>\n",
       "      <td>7.9</td>\n",
       "      <td>6.4</td>\n",
       "      <td>-0.05</td>\n",
       "      <td>-3.70</td>\n",
       "      <td>-3.25</td>\n",
       "      <td>34.88</td>\n",
       "      <td>787.0</td>\n",
       "      <td>...</td>\n",
       "      <td>4.549000e+09</td>\n",
       "      <td>124.98</td>\n",
       "      <td>7.61</td>\n",
       "      <td>4.42</td>\n",
       "      <td>35.0</td>\n",
       "      <td>1.274000e+09</td>\n",
       "      <td>1000000.0</td>\n",
       "      <td>28.01</td>\n",
       "      <td>28.03</td>\n",
       "      <td>2.2</td>\n",
       "    </tr>\n",
       "    <tr>\n",
       "      <th>9993</th>\n",
       "      <td>45.65</td>\n",
       "      <td>0.58</td>\n",
       "      <td>1.75</td>\n",
       "      <td>1.3</td>\n",
       "      <td>2.3</td>\n",
       "      <td>-1.55</td>\n",
       "      <td>-3.97</td>\n",
       "      <td>-4.06</td>\n",
       "      <td>29.90</td>\n",
       "      <td>1541.0</td>\n",
       "      <td>...</td>\n",
       "      <td>3.680000e+08</td>\n",
       "      <td>33.76</td>\n",
       "      <td>1.28</td>\n",
       "      <td>0.75</td>\n",
       "      <td>27.0</td>\n",
       "      <td>2.940000e+08</td>\n",
       "      <td>0.0</td>\n",
       "      <td>79.89</td>\n",
       "      <td>0.00</td>\n",
       "      <td>1.0</td>\n",
       "    </tr>\n",
       "    <tr>\n",
       "      <th>9997</th>\n",
       "      <td>6.35</td>\n",
       "      <td>0.62</td>\n",
       "      <td>2.28</td>\n",
       "      <td>10.3</td>\n",
       "      <td>7.3</td>\n",
       "      <td>0.89</td>\n",
       "      <td>1.14</td>\n",
       "      <td>0.96</td>\n",
       "      <td>54.96</td>\n",
       "      <td>725.0</td>\n",
       "      <td>...</td>\n",
       "      <td>1.103600e+10</td>\n",
       "      <td>114.17</td>\n",
       "      <td>9.80</td>\n",
       "      <td>4.59</td>\n",
       "      <td>16.5</td>\n",
       "      <td>1.546000e+09</td>\n",
       "      <td>0.0</td>\n",
       "      <td>14.01</td>\n",
       "      <td>14.01</td>\n",
       "      <td>1.5</td>\n",
       "    </tr>\n",
       "  </tbody>\n",
       "</table>\n",
       "<p>1915 rows × 102 columns</p>\n",
       "</div>"
      ],
      "text/plain": [
       "        PER   PBR  HAITO  ROE_x  ROA_x  MA05  MA25   MA75    RSI  AdjClose_c  \\\n",
       "コード                                                                            \n",
       "1301   9.06  0.86   2.47   10.5    4.3 -0.31 -3.54   0.29  25.66      3235.0   \n",
       "1352  12.76  1.46   1.64   12.0    2.9 -0.02 -0.11  21.62  40.00      1217.0   \n",
       "1376  12.84  0.85   1.83    6.8    3.7 -1.18 -1.69   2.39  47.72      1581.0   \n",
       "1377  23.45  1.60   0.95    7.2    7.9 -1.59  6.56  15.17  62.07      4015.0   \n",
       "1379  15.30  1.15   3.04    7.7    6.5 -0.22 -0.07   0.92  46.36      1971.0   \n",
       "...     ...   ...    ...    ...    ...   ...   ...    ...    ...         ...   \n",
       "9987  42.48  0.80   1.91    1.9    1.6  0.48  0.78   5.48  49.01      3760.0   \n",
       "9989  13.77  1.70   2.35   12.9   12.9 -0.91 -1.82  -1.29  38.63      2984.0   \n",
       "9991   6.30  0.48   4.45    7.9    6.4 -0.05 -3.70  -3.25  34.88       787.0   \n",
       "9993  45.65  0.58   1.75    1.3    2.3 -1.55 -3.97  -4.06  29.90      1541.0   \n",
       "9997   6.35  0.62   2.28   10.3    7.3  0.89  1.14   0.96  54.96       725.0   \n",
       "\n",
       "      ...           純利益     EPS  ROE_y  ROA_y  一株配当        剰余金の配当       自社株買い  \\\n",
       "コード   ...                                                                       \n",
       "1301  ...  3.838000e+09  356.90   9.50   3.30  80.0  7.540000e+08  82000000.0   \n",
       "1352  ...  7.980000e+08   95.30  11.43   1.93  20.0  1.670000e+08         0.0   \n",
       "1376  ...  1.436066e+09  123.09   6.62   3.03  29.0  3.286890e+08    781000.0   \n",
       "1377  ...  7.636000e+09  171.22   6.84   5.74  38.0  1.472000e+09   2000000.0   \n",
       "1379  ...  4.038000e+09  128.83   7.46   4.03  60.0  1.901000e+09   1000000.0   \n",
       "...   ...           ...     ...    ...    ...   ...           ...         ...   \n",
       "9987  ...  7.895000e+09   88.51   1.89   0.71  72.0  6.778000e+09   1000000.0   \n",
       "9989  ...  2.532900e+10  216.67  12.35   8.21  70.0  8.066000e+09         0.0   \n",
       "9991  ...  4.549000e+09  124.98   7.61   4.42  35.0  1.274000e+09   1000000.0   \n",
       "9993  ...  3.680000e+08   33.76   1.28   0.75  27.0  2.940000e+08         0.0   \n",
       "9997  ...  1.103600e+10  114.17   9.80   4.59  16.5  1.546000e+09         0.0   \n",
       "\n",
       "       配当性向  総還元性向  純資産配当率  \n",
       "コード                         \n",
       "1301  19.65  21.78     2.4  \n",
       "1352  20.93   0.00     2.4  \n",
       "1376  22.89  22.94     1.6  \n",
       "1377  19.28  19.30     1.6  \n",
       "1379  47.08  47.10     3.6  \n",
       "...     ...    ...     ...  \n",
       "9987  85.85  85.86     1.5  \n",
       "9989  31.84  31.84     4.2  \n",
       "9991  28.01  28.03     2.2  \n",
       "9993  79.89   0.00     1.0  \n",
       "9997  14.01  14.01     1.5  \n",
       "\n",
       "[1915 rows x 102 columns]"
      ]
     },
     "execution_count": 26,
     "metadata": {},
     "output_type": "execute_result"
    }
   ],
   "source": [
    "df_analysis.iloc[:, 0:102]"
   ]
  },
  {
   "cell_type": "code",
   "execution_count": null,
   "id": "1f7d79c9",
   "metadata": {},
   "outputs": [],
   "source": []
  }
 ],
 "metadata": {
  "kernelspec": {
   "display_name": "Python 3 (ipykernel)",
   "language": "python",
   "name": "python3"
  },
  "language_info": {
   "codemirror_mode": {
    "name": "ipython",
    "version": 3
   },
   "file_extension": ".py",
   "mimetype": "text/x-python",
   "name": "python",
   "nbconvert_exporter": "python",
   "pygments_lexer": "ipython3",
   "version": "3.9.7"
  }
 },
 "nbformat": 4,
 "nbformat_minor": 5
}
