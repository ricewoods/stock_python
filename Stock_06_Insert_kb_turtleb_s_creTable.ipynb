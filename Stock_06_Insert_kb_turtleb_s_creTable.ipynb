{
 "cells": [
  {
   "cell_type": "code",
   "execution_count": 1,
   "id": "cb34c2a1",
   "metadata": {},
   "outputs": [],
   "source": [
    "# MySQLdbのインポート\n",
    "import MySQLdb"
   ]
  },
  {
   "cell_type": "code",
   "execution_count": 2,
   "id": "940ceb19",
   "metadata": {},
   "outputs": [],
   "source": [
    "# データベースへの接続とカーソルの生成\n",
    "connection = MySQLdb.connect(\n",
    "    host='localhost',\n",
    "    port=13306,\n",
    "    user='cyamaryan',\n",
    "    passwd='python',\n",
    "    db='stock',\n",
    "    charset='utf8')\n",
    "cursor = connection.cursor()"
   ]
  },
  {
   "cell_type": "code",
   "execution_count": 3,
   "id": "32da47bd",
   "metadata": {},
   "outputs": [
    {
     "name": "stdout",
     "output_type": "stream",
     "text": [
      "(('kb_brand',), ('kb_finance',), ('kb_idnr4',), ('kb_market',), ('kb_pin80b',), ('kb_pin80s',), ('kb_values',))\n"
     ]
    }
   ],
   "source": [
    "# テーブル削除\n",
    "sql = '''\n",
    "DROP TABLE kb_turtleb, kb_turtles\n",
    "'''\n",
    "cursor.execute(sql)\n",
    "cursor.execute(\"SHOW TABLES\")\n",
    "# fetchall:結果をリスト化する\n",
    "print(cursor.fetchall())"
   ]
  },
  {
   "cell_type": "code",
   "execution_count": 4,
   "id": "bffdcdbf",
   "metadata": {},
   "outputs": [
    {
     "name": "stdout",
     "output_type": "stream",
     "text": [
      "(('kb_brand',), ('kb_finance',), ('kb_idnr4',), ('kb_market',), ('kb_pin80b',), ('kb_pin80s',), ('kb_turtleb',), ('kb_values',))\n"
     ]
    }
   ],
   "source": [
    "# テーブル作成(kb_turtleb)\n",
    "sql = '''\n",
    "CREATE TABLE kb_turtleb(code INT NOT NULL, trading_date DATE NOT NULL, adjclose FLOAT NULL, close FLOAT NULL, high FLOAT NULL, low FLOAT NULL, open FLOAT NULL, volume FLOAT NULL, trading_date_y DATE NULL, adjclose_y FLOAT NULL, close_y FLOAT NULL, high_y FLOAT NULL, low_y FLOAT NULL, open_y FLOAT NULL, volume_y FLOAT NULL, tsplb INT NULL, PRIMARY KEY(code, trading_date))\n",
    "'''\n",
    "cursor.execute(sql)\n",
    "\n",
    "cursor.execute(\"SHOW TABLES\")\n",
    "# fetchall:結果をリスト化する\n",
    "print(cursor.fetchall())"
   ]
  },
  {
   "cell_type": "code",
   "execution_count": 5,
   "id": "3ac596ee",
   "metadata": {},
   "outputs": [
    {
     "name": "stdout",
     "output_type": "stream",
     "text": [
      "(('kb_brand',), ('kb_finance',), ('kb_idnr4',), ('kb_market',), ('kb_pin80b',), ('kb_pin80s',), ('kb_turtleb',), ('kb_turtles',), ('kb_values',))\n"
     ]
    }
   ],
   "source": [
    "# テーブル作成(kb_turtles)\n",
    "sql = '''\n",
    "CREATE TABLE kb_turtles(code INT NOT NULL, trading_date DATE NOT NULL, adjclose FLOAT NULL, close FLOAT NULL, high FLOAT NULL, low FLOAT NULL, open FLOAT NULL, volume FLOAT NULL, trading_date_y DATE NULL, adjclose_y FLOAT NULL, close_y FLOAT NULL, high_y FLOAT NULL, low_y FLOAT NULL, open_y FLOAT NULL, volume_y FLOAT NULL, tspls INT NULL, PRIMARY KEY(code, trading_date))\n",
    "'''\n",
    "cursor.execute(sql)\n",
    "\n",
    "cursor.execute(\"SHOW TABLES\")\n",
    "# fetchall:結果をリスト化する\n",
    "print(cursor.fetchall())"
   ]
  }
 ],
 "metadata": {
  "kernelspec": {
   "display_name": "Python 3 (ipykernel)",
   "language": "python",
   "name": "python3"
  },
  "language_info": {
   "codemirror_mode": {
    "name": "ipython",
    "version": 3
   },
   "file_extension": ".py",
   "mimetype": "text/x-python",
   "name": "python",
   "nbconvert_exporter": "python",
   "pygments_lexer": "ipython3",
   "version": "3.9.7"
  }
 },
 "nbformat": 4,
 "nbformat_minor": 5
}
