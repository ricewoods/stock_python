{
 "cells": [
  {
   "cell_type": "code",
   "execution_count": 1,
   "id": "f9a52bfe",
   "metadata": {},
   "outputs": [],
   "source": [
    "import numpy as np\n",
    "import pandas as pd\n",
    "import datetime as dt\n",
    "from pandas_datareader import DataReader\n",
    "from pandas import Series, DataFrame"
   ]
  },
  {
   "cell_type": "code",
   "execution_count": 2,
   "id": "231a7696",
   "metadata": {},
   "outputs": [],
   "source": [
    "filedate = '20220407'"
   ]
  },
  {
   "cell_type": "code",
   "execution_count": 3,
   "id": "ab5d04a6",
   "metadata": {},
   "outputs": [],
   "source": [
    "df_stock = pd.read_csv('data/stock_' + filedate + '.csv', index_col=0, header=[0,1], parse_dates=[0])"
   ]
  },
  {
   "cell_type": "code",
   "execution_count": 4,
   "id": "146a533e",
   "metadata": {},
   "outputs": [],
   "source": [
    "# 階層構造を逆にすることができます。今回は列方向で試します。\n",
    "df_stock2 = df_stock.swaplevel('Attributes','Symbols',axis=1)"
   ]
  },
  {
   "cell_type": "code",
   "execution_count": 5,
   "id": "dfa11d0d",
   "metadata": {},
   "outputs": [],
   "source": [
    "df_stock2.sort_values(by=['Symbols', 'Attributes'], axis=1, inplace=True)"
   ]
  },
  {
   "cell_type": "code",
   "execution_count": 6,
   "id": "59ced651",
   "metadata": {},
   "outputs": [],
   "source": [
    "# マルチインデックスのカラム名を取得する\n",
    "list = df_stock2.columns.get_level_values('Symbols')"
   ]
  },
  {
   "cell_type": "code",
   "execution_count": 7,
   "id": "cf8765a6",
   "metadata": {},
   "outputs": [
    {
     "name": "stderr",
     "output_type": "stream",
     "text": [
      "C:\\Users\\ricew\\AppData\\Local\\Temp/ipykernel_256080/2502226233.py:20: PerformanceWarning: DataFrame is highly fragmented.  This is usually the result of calling `frame.insert` many times, which has poor performance.  Consider joining all columns at once using pd.concat(axis=1) instead.  To get a de-fragmented frame, use `newframe = frame.copy()`\n",
      "  df[i, \"RSI\"] = 100.0 * (df_up_sma03 / (df_up_sma03 + df_down_sma03))\n"
     ]
    }
   ],
   "source": [
    "# RSIの計算\n",
    "def rsi(df):\n",
    "    # 前日との差分を計算\n",
    "    df_diff = df[i,\"Close\"].diff(1)\n",
    "\n",
    "    # 計算用のDataFrameを定義\n",
    "    df_up, df_down = df_diff.copy(), df_diff.copy()\n",
    "    \n",
    "    # df_upはマイナス値を0に変換\n",
    "    # df_downはプラス値を0に変換して正負反転\n",
    "    df_up[df_up < 0] = 0\n",
    "    df_down[df_down > 0] = 0\n",
    "    df_down = df_down * -1\n",
    "    \n",
    "    # 期間03でそれぞれの平均を算出\n",
    "    df_up_sma03 = df_up.rolling(window=3, center=False).mean()\n",
    "    df_down_sma03 = df_down.rolling(window=3, center=False).mean()\n",
    "\n",
    "    # RSIを算出\n",
    "    df[i, \"RSI\"] = 100.0 * (df_up_sma03 / (df_up_sma03 + df_down_sma03))\n",
    "\n",
    "    return df\n",
    "\n",
    "for i in list: \n",
    "    df_stock2 = rsi(df_stock2)"
   ]
  },
  {
   "cell_type": "code",
   "execution_count": 8,
   "id": "a58bc515",
   "metadata": {},
   "outputs": [
    {
     "name": "stderr",
     "output_type": "stream",
     "text": [
      "C:\\Users\\ricew\\AppData\\Local\\Temp/ipykernel_256080/2650847954.py:3: PerformanceWarning: DataFrame is highly fragmented.  This is usually the result of calling `frame.insert` many times, which has poor performance.  Consider joining all columns at once using pd.concat(axis=1) instead.  To get a de-fragmented frame, use `newframe = frame.copy()`\n",
      "  df_stock2[i, 'diff'] = df_stock2[i, 'High'] - df_stock2[i, 'Low']\n",
      "C:\\Users\\ricew\\AppData\\Local\\Temp/ipykernel_256080/2650847954.py:4: PerformanceWarning: DataFrame is highly fragmented.  This is usually the result of calling `frame.insert` many times, which has poor performance.  Consider joining all columns at once using pd.concat(axis=1) instead.  To get a de-fragmented frame, use `newframe = frame.copy()`\n",
      "  df_stock2[i, 'eighty'] = df_stock2[i, 'High'] - df_stock2[i, 'diff'] * 0.2\n",
      "C:\\Users\\ricew\\AppData\\Local\\Temp/ipykernel_256080/2650847954.py:5: PerformanceWarning: DataFrame is highly fragmented.  This is usually the result of calling `frame.insert` many times, which has poor performance.  Consider joining all columns at once using pd.concat(axis=1) instead.  To get a de-fragmented frame, use `newframe = frame.copy()`\n",
      "  df_stock2[i, 'twenty'] = df_stock2[i, 'Low'] + df_stock2[i, 'diff'] * 0.2\n",
      "C:\\Users\\ricew\\AppData\\Local\\Temp/ipykernel_256080/2650847954.py:6: PerformanceWarning: DataFrame is highly fragmented.  This is usually the result of calling `frame.insert` many times, which has poor performance.  Consider joining all columns at once using pd.concat(axis=1) instead.  To get a de-fragmented frame, use `newframe = frame.copy()`\n",
      "  df_stock2[i, 'RSI_diff'] = df_stock2[i,\"RSI\"].diff(1)\n"
     ]
    }
   ],
   "source": [
    "# High-Lowの計算結果を新たな列として追加\n",
    "for i in list: \n",
    "    df_stock2[i, 'diff'] = df_stock2[i, 'High'] - df_stock2[i, 'Low']\n",
    "    df_stock2[i, 'eighty'] = df_stock2[i, 'High'] - df_stock2[i, 'diff'] * 0.2\n",
    "    df_stock2[i, 'twenty'] = df_stock2[i, 'Low'] + df_stock2[i, 'diff'] * 0.2\n",
    "    df_stock2[i, 'RSI_diff'] = df_stock2[i,\"RSI\"].diff(1)"
   ]
  },
  {
   "cell_type": "code",
   "execution_count": 9,
   "id": "fd391bc7",
   "metadata": {},
   "outputs": [],
   "source": [
    "df_stock2.sort_values(by=['Symbols', 'Attributes'], axis=1, inplace=True)"
   ]
  },
  {
   "cell_type": "code",
   "execution_count": 10,
   "id": "7bca6e3a",
   "metadata": {},
   "outputs": [],
   "source": [
    "# 日付の比較Datetimeから最後の日のみを取得\n",
    "df_stock3 = df_stock2.tail(1)"
   ]
  },
  {
   "cell_type": "code",
   "execution_count": 11,
   "id": "fc8c5681",
   "metadata": {},
   "outputs": [],
   "source": [
    "df_stock3 = df_stock3.T"
   ]
  },
  {
   "cell_type": "code",
   "execution_count": 12,
   "id": "3a47662e",
   "metadata": {},
   "outputs": [],
   "source": [
    "df_stock3 = df_stock3.pivot_table(index=['Symbols'], columns=['Attributes'])"
   ]
  },
  {
   "cell_type": "code",
   "execution_count": 13,
   "id": "261b3284",
   "metadata": {},
   "outputs": [],
   "source": [
    "df_stock3 = df_stock3.droplevel(0, axis=1)"
   ]
  },
  {
   "cell_type": "code",
   "execution_count": 14,
   "id": "9d6022cb",
   "metadata": {},
   "outputs": [],
   "source": [
    "# 日付の比較Datetimeから日付のみを取得して比較\n",
    "df_stock4 = df_stock3[(df_stock3['RSI'] < 30) &\n",
    "                 (df_stock3['Open'] >= df_stock3['eighty']) &\n",
    "                 (df_stock3['Close'] <= df_stock3['twenty'])\n",
    "                 ]"
   ]
  },
  {
   "cell_type": "code",
   "execution_count": 15,
   "id": "d56e0604",
   "metadata": {},
   "outputs": [],
   "source": [
    "# 日付の比較Datetimeから日付のみを取得して比較\n",
    "df_stock5 = df_stock3[(df_stock3['RSI'] > 70) &\n",
    "                 (df_stock3['Close'] >= df_stock3['eighty']) &\n",
    "                 (df_stock3['Open'] <= df_stock3['twenty'])\n",
    "                 ]"
   ]
  },
  {
   "cell_type": "code",
   "execution_count": 16,
   "id": "c078dcc9",
   "metadata": {},
   "outputs": [],
   "source": [
    "df_stock4.to_csv('data/pin_80_20_買い_' + filedate + '.csv')"
   ]
  },
  {
   "cell_type": "code",
   "execution_count": 17,
   "id": "b3a6c86e",
   "metadata": {},
   "outputs": [],
   "source": [
    "df_stock5.to_csv('data/pin_80_20_売り_' + filedate + '.csv')"
   ]
  },
  {
   "cell_type": "code",
   "execution_count": null,
   "id": "39c68091",
   "metadata": {},
   "outputs": [],
   "source": []
  }
 ],
 "metadata": {
  "kernelspec": {
   "display_name": "Python 3 (ipykernel)",
   "language": "python",
   "name": "python3"
  },
  "language_info": {
   "codemirror_mode": {
    "name": "ipython",
    "version": 3
   },
   "file_extension": ".py",
   "mimetype": "text/x-python",
   "name": "python",
   "nbconvert_exporter": "python",
   "pygments_lexer": "ipython3",
   "version": "3.9.7"
  }
 },
 "nbformat": 4,
 "nbformat_minor": 5
}
